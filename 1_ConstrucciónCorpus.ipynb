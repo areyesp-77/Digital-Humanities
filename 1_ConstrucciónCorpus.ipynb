{
  "nbformat": 4,
  "nbformat_minor": 0,
  "metadata": {
    "colab": {
      "provenance": []
    },
    "kernelspec": {
      "name": "python3",
      "display_name": "Python 3"
    },
    "language_info": {
      "name": "python"
    }
  },
  "cells": [
    {
      "cell_type": "markdown",
      "source": [
        "# 1. Introducción\n",
        "## Comandos básicos para utilizar el Notebook\n",
        "\n",
        "En esta sección se explica cómo funciona el Notebook para la construcción semi automática de un corpus.\n",
        "\n",
        "Se usarán algunas librerías de **SHELL** que se ejecutan a través de líneas de comandos (*terminal*) para optimizar el proceso.\n",
        "\n",
        "Asimismo, se conocerán algunos de los [comandos básicos de Shell](https://es.wikibooks.org/wiki/Manual_de_consola_Bash_de_Linux) para el procesamiento de datos."
      ],
      "metadata": {
        "id": "Sheiamg5cf7K"
      }
    },
    {
      "cell_type": "code",
      "source": [
        "pwd #comando para identificar la ruta en la que estamos trabajando"
      ],
      "metadata": {
        "id": "M119FjEH8Suv",
        "colab": {
          "base_uri": "https://localhost:8080/",
          "height": 35
        },
        "outputId": "9c9ffefa-fec5-4608-fc06-c125dbe7dbe7"
      },
      "execution_count": null,
      "outputs": [
        {
          "output_type": "execute_result",
          "data": {
            "text/plain": [
              "'/content'"
            ],
            "application/vnd.google.colaboratory.intrinsic+json": {
              "type": "string"
            }
          },
          "metadata": {},
          "execution_count": 1
        }
      ]
    },
    {
      "cell_type": "code",
      "source": [
        "ls #comando para listar la información que está en la ruta de trabajo"
      ],
      "metadata": {
        "id": "TESPJ75z8U8L",
        "colab": {
          "base_uri": "https://localhost:8080/"
        },
        "outputId": "c952faab-800f-4b0d-868b-4b094281679b"
      },
      "execution_count": null,
      "outputs": [
        {
          "output_type": "stream",
          "name": "stdout",
          "text": [
            "\u001b[0m\u001b[01;34msample_data\u001b[0m/\n"
          ]
        }
      ]
    },
    {
      "cell_type": "code",
      "source": [
        "mkdir experimentos #mkdir FOLDER crear un carpeta en la ruta de trabajo"
      ],
      "metadata": {
        "id": "keW7OaZPbJ_3"
      },
      "execution_count": null,
      "outputs": []
    },
    {
      "cell_type": "code",
      "source": [
        "ls"
      ],
      "metadata": {
        "id": "CUl8cdvwbRvJ",
        "colab": {
          "base_uri": "https://localhost:8080/"
        },
        "outputId": "bab1912e-6c4f-441f-8229-432a44e3cda3"
      },
      "execution_count": null,
      "outputs": [
        {
          "output_type": "stream",
          "name": "stdout",
          "text": [
            "\u001b[0m\u001b[01;34mexperimentos\u001b[0m/  \u001b[01;34msample_data\u001b[0m/\n"
          ]
        }
      ]
    },
    {
      "cell_type": "code",
      "source": [
        "cd experimentos/"
      ],
      "metadata": {
        "id": "KT27HlF-bUFg",
        "colab": {
          "base_uri": "https://localhost:8080/"
        },
        "outputId": "17d880f5-384b-4319-bdbb-bc07275ceb56"
      },
      "execution_count": null,
      "outputs": [
        {
          "output_type": "stream",
          "name": "stdout",
          "text": [
            "/content/experimentos\n"
          ]
        }
      ]
    },
    {
      "cell_type": "code",
      "source": [
        "ls #cd FOLDER ingresa a un carpeta, cd .. sale de la carpeta"
      ],
      "metadata": {
        "id": "YcIoCMuSbqTI"
      },
      "execution_count": null,
      "outputs": []
    },
    {
      "cell_type": "code",
      "source": [
        "!touch documentación.txt #touch FILE crea archivo vacío"
      ],
      "metadata": {
        "id": "uxkURU0wb00L"
      },
      "execution_count": null,
      "outputs": []
    },
    {
      "cell_type": "code",
      "source": [
        "ls"
      ],
      "metadata": {
        "id": "S9rPEgb3d12H",
        "colab": {
          "base_uri": "https://localhost:8080/"
        },
        "outputId": "51e2ee3f-6ecd-42ea-8133-057dbee45108"
      },
      "execution_count": null,
      "outputs": [
        {
          "output_type": "stream",
          "name": "stdout",
          "text": [
            "documentación.txt\n"
          ]
        }
      ]
    },
    {
      "cell_type": "code",
      "source": [
        "rm documentación.txt #rm FILE borra archivo, rm -rf FOLDER borra carpeta y archivos en carpeta"
      ],
      "metadata": {
        "id": "CvvI2IzZeNtD"
      },
      "execution_count": null,
      "outputs": []
    },
    {
      "cell_type": "markdown",
      "source": [
        "# 2. Preparación de Notebook para construcción de corpus\n",
        "## 2.1 Instalación de librerías para recuperación de información de la web y para procesamiento de documentos.\n",
        "\n",
        "En esta sección se instalarán las librerías necesarias para hacer el proceso de construcción de corpus de forma automática (**wget**).\n",
        "Asimismo, se insltalarán las librerías para hacer el procesamiento de los documentos descargados (**poppler, texlive, pdftotext**) de forma que al final del proceso se tenga un conjunto de documentos en formato TXT, los cuales serán nuestro corpus de trabajo."
      ],
      "metadata": {
        "id": "IiT-xFbVe2Vb"
      }
    },
    {
      "cell_type": "code",
      "source": [
        "!sudo apt update #comando para revisar las actualizaciones disponibles de la máquina virtual"
      ],
      "metadata": {
        "id": "kA6C9BFJeiBH",
        "colab": {
          "base_uri": "https://localhost:8080/"
        },
        "outputId": "70b2d82a-dd98-4ae0-fba7-04332bbdb996"
      },
      "execution_count": null,
      "outputs": [
        {
          "output_type": "stream",
          "name": "stdout",
          "text": [
            "\u001b[33m\r0% [Working]\u001b[0m\r            \rHit:1 http://archive.ubuntu.com/ubuntu jammy InRelease\n",
            "\u001b[33m\r0% [Waiting for headers] [Connecting to security.ubuntu.com (185.125.190.39)] [\u001b[0m\r                                                                               \rGet:2 https://cloud.r-project.org/bin/linux/ubuntu jammy-cran40/ InRelease [3,626 B]\n",
            "\u001b[33m\r0% [Waiting for headers] [Waiting for headers] [Connected to ppa.launchpadconte\u001b[0m\r                                                                               \rGet:3 http://archive.ubuntu.com/ubuntu jammy-updates InRelease [119 kB]\n",
            "\u001b[33m\r0% [3 InRelease 12.7 kB/119 kB 11%] [Waiting for headers] [Connected to ppa.lau\u001b[0m\r                                                                               \rGet:4 https://developer.download.nvidia.com/compute/cuda/repos/ubuntu2204/x86_64  InRelease [1,581 B]\n",
            "\u001b[33m\r0% [3 InRelease 15.6 kB/119 kB 13%] [Waiting for headers] [Connected to ppa.lau\u001b[0m\u001b[33m\r0% [3 InRelease 15.6 kB/119 kB 13%] [Waiting for headers] [Connected to ppa.lau\u001b[0m\r                                                                               \rGet:5 http://security.ubuntu.com/ubuntu jammy-security InRelease [110 kB]\n",
            "Get:6 http://archive.ubuntu.com/ubuntu jammy-backports InRelease [109 kB]\n",
            "Hit:7 https://ppa.launchpadcontent.net/c2d4u.team/c2d4u4.0+/ubuntu jammy InRelease\n",
            "Get:8 https://developer.download.nvidia.com/compute/cuda/repos/ubuntu2204/x86_64  Packages [518 kB]\n",
            "Get:9 http://archive.ubuntu.com/ubuntu jammy-updates/main amd64 Packages [1,340 kB]\n",
            "Get:10 http://archive.ubuntu.com/ubuntu jammy-updates/universe amd64 Packages [1,266 kB]\n",
            "Hit:11 https://ppa.launchpadcontent.net/deadsnakes/ppa/ubuntu jammy InRelease\n",
            "Get:12 http://archive.ubuntu.com/ubuntu jammy-updates/restricted amd64 Packages [1,247 kB]\n",
            "Get:13 http://security.ubuntu.com/ubuntu jammy-security/restricted amd64 Packages [1,223 kB]\n",
            "Hit:14 https://ppa.launchpadcontent.net/graphics-drivers/ppa/ubuntu jammy InRelease\n",
            "Get:15 http://security.ubuntu.com/ubuntu jammy-security/universe amd64 Packages [1,002 kB]\n",
            "Hit:16 https://ppa.launchpadcontent.net/ubuntugis/ppa/ubuntu jammy InRelease\n",
            "Get:17 http://security.ubuntu.com/ubuntu jammy-security/main amd64 Packages [1,078 kB]\n",
            "Fetched 8,017 kB in 2s (3,892 kB/s)\n",
            "Reading package lists... Done\n",
            "Building dependency tree... Done\n",
            "Reading state information... Done\n",
            "29 packages can be upgraded. Run 'apt list --upgradable' to see them.\n"
          ]
        }
      ]
    },
    {
      "cell_type": "code",
      "source": [
        "!sudo apt upgrade #comando para actualizar las librerías de la máquina virtual"
      ],
      "metadata": {
        "id": "gvflVyaTgOKh",
        "colab": {
          "base_uri": "https://localhost:8080/"
        },
        "outputId": "c509cdce-a81b-4127-83cb-9d5a0c6aeed0"
      },
      "execution_count": null,
      "outputs": [
        {
          "output_type": "stream",
          "name": "stdout",
          "text": [
            "Reading package lists... Done\n",
            "Building dependency tree... Done\n",
            "Reading state information... Done\n",
            "Calculating upgrade... Done\n",
            "The following packages were automatically installed and are no longer required:\n",
            "  linux-headers-5.15.0-84 linux-headers-5.15.0-84-generic\n",
            "Use 'sudo apt autoremove' to remove them.\n",
            "The following NEW packages will be installed:\n",
            "  linux-headers-5.15.0-86 linux-headers-5.15.0-86-generic\n",
            "The following packages have been kept back:\n",
            "  libcudnn8 libcudnn8-dev libnccl-dev libnccl2\n",
            "The following packages will be upgraded:\n",
            "  base-files binutils binutils-common binutils-x86-64-linux-gnu cuda-keyring\n",
            "  cuda-toolkit-config-common libbinutils libc-bin libc-dev-bin libc6 libc6-dev\n",
            "  libc6-i386 libcap2 libctf-nobfd0 libctf0 libldap-2.5-0 libudev1 libx11-6\n",
            "  libx11-data libx11-dev libx11-xcb1 libxpm4 linux-headers-generic\n",
            "  linux-libc-dev locales\n",
            "25 upgraded, 2 newly installed, 0 to remove and 4 not upgraded.\n",
            "Need to get 35.1 MB of archives.\n",
            "After this operation, 103 MB of additional disk space will be used.\n",
            "Get:1 http://archive.ubuntu.com/ubuntu jammy-updates/main amd64 libc6-dev amd64 2.35-0ubuntu3.4 [2,100 kB]\n",
            "Get:2 https://developer.download.nvidia.com/compute/cuda/repos/ubuntu2204/x86_64  cuda-keyring 1.1-1 [4,332 B]\n",
            "Get:3 https://developer.download.nvidia.com/compute/cuda/repos/ubuntu2204/x86_64  cuda-toolkit-config-common 12.2.140-1 [16.3 kB]\n",
            "Get:4 http://archive.ubuntu.com/ubuntu jammy-updates/main amd64 libc-dev-bin amd64 2.35-0ubuntu3.4 [20.3 kB]\n",
            "Get:5 http://archive.ubuntu.com/ubuntu jammy-updates/main amd64 linux-libc-dev amd64 5.15.0-86.96 [1,338 kB]\n",
            "Get:6 http://archive.ubuntu.com/ubuntu jammy-updates/main amd64 libc6-i386 amd64 2.35-0ubuntu3.4 [2,837 kB]\n",
            "Get:7 http://archive.ubuntu.com/ubuntu jammy-updates/main amd64 libc6 amd64 2.35-0ubuntu3.4 [3,234 kB]\n",
            "Get:8 http://archive.ubuntu.com/ubuntu jammy-updates/main amd64 base-files amd64 12ubuntu4.4 [62.6 kB]\n",
            "Get:9 http://archive.ubuntu.com/ubuntu jammy-updates/main amd64 libc-bin amd64 2.35-0ubuntu3.4 [706 kB]\n",
            "Get:10 http://archive.ubuntu.com/ubuntu jammy-updates/main amd64 libcap2 amd64 1:2.44-1ubuntu0.22.04.1 [18.3 kB]\n",
            "Get:11 http://archive.ubuntu.com/ubuntu jammy-updates/main amd64 libudev1 amd64 249.11-0ubuntu3.10 [78.0 kB]\n",
            "Get:12 http://archive.ubuntu.com/ubuntu jammy-updates/main amd64 locales all 2.35-0ubuntu3.4 [4,245 kB]\n",
            "Get:13 http://archive.ubuntu.com/ubuntu jammy-updates/main amd64 libx11-dev amd64 2:1.7.5-1ubuntu0.3 [744 kB]\n",
            "Get:14 http://archive.ubuntu.com/ubuntu jammy-updates/main amd64 libx11-data all 2:1.7.5-1ubuntu0.3 [120 kB]\n",
            "Get:15 http://archive.ubuntu.com/ubuntu jammy-updates/main amd64 libx11-6 amd64 2:1.7.5-1ubuntu0.3 [667 kB]\n",
            "Get:16 http://archive.ubuntu.com/ubuntu jammy-updates/main amd64 libx11-xcb1 amd64 2:1.7.5-1ubuntu0.3 [7,802 B]\n",
            "Get:17 http://archive.ubuntu.com/ubuntu jammy-updates/main amd64 libctf0 amd64 2.38-4ubuntu2.3 [103 kB]\n",
            "Get:18 http://archive.ubuntu.com/ubuntu jammy-updates/main amd64 libctf-nobfd0 amd64 2.38-4ubuntu2.3 [107 kB]\n",
            "Get:19 http://archive.ubuntu.com/ubuntu jammy-updates/main amd64 binutils-x86-64-linux-gnu amd64 2.38-4ubuntu2.3 [2,327 kB]\n",
            "Get:20 http://archive.ubuntu.com/ubuntu jammy-updates/main amd64 libbinutils amd64 2.38-4ubuntu2.3 [662 kB]\n",
            "Get:21 http://archive.ubuntu.com/ubuntu jammy-updates/main amd64 binutils amd64 2.38-4ubuntu2.3 [3,190 B]\n",
            "Get:22 http://archive.ubuntu.com/ubuntu jammy-updates/main amd64 binutils-common amd64 2.38-4ubuntu2.3 [222 kB]\n",
            "Get:23 http://archive.ubuntu.com/ubuntu jammy-updates/main amd64 libldap-2.5-0 amd64 2.5.16+dfsg-0ubuntu0.22.04.1 [183 kB]\n",
            "Get:24 http://archive.ubuntu.com/ubuntu jammy-updates/main amd64 libxpm4 amd64 1:3.5.12-1ubuntu0.22.04.2 [36.7 kB]\n",
            "Get:25 http://archive.ubuntu.com/ubuntu jammy-updates/main amd64 linux-headers-5.15.0-86 all 5.15.0-86.96 [12.3 MB]\n",
            "Get:26 http://archive.ubuntu.com/ubuntu jammy-updates/main amd64 linux-headers-5.15.0-86-generic amd64 5.15.0-86.96 [2,882 kB]\n",
            "Get:27 http://archive.ubuntu.com/ubuntu jammy-updates/main amd64 linux-headers-generic amd64 5.15.0.86.83 [2,328 B]\n",
            "Fetched 35.1 MB in 1s (49.4 MB/s)\n",
            "debconf: unable to initialize frontend: Dialog\n",
            "debconf: (No usable dialog-like program is installed, so the dialog based frontend cannot be used. at /usr/share/perl5/Debconf/FrontEnd/Dialog.pm line 78, <> line 27.)\n",
            "debconf: falling back to frontend: Readline\n",
            "debconf: unable to initialize frontend: Readline\n",
            "debconf: (This frontend requires a controlling tty.)\n",
            "debconf: falling back to frontend: Teletype\n",
            "dpkg-preconfigure: unable to re-open stdin: \n",
            "(Reading database ... 120895 files and directories currently installed.)\n",
            "Preparing to unpack .../libc6-dev_2.35-0ubuntu3.4_amd64.deb ...\n",
            "Unpacking libc6-dev:amd64 (2.35-0ubuntu3.4) over (2.35-0ubuntu3.3) ...\n",
            "Preparing to unpack .../libc-dev-bin_2.35-0ubuntu3.4_amd64.deb ...\n",
            "Unpacking libc-dev-bin (2.35-0ubuntu3.4) over (2.35-0ubuntu3.3) ...\n",
            "Preparing to unpack .../linux-libc-dev_5.15.0-86.96_amd64.deb ...\n",
            "Unpacking linux-libc-dev:amd64 (5.15.0-86.96) over (5.15.0-75.82) ...\n",
            "Preparing to unpack .../libc6-i386_2.35-0ubuntu3.4_amd64.deb ...\n",
            "Unpacking libc6-i386 (2.35-0ubuntu3.4) over (2.35-0ubuntu3.3) ...\n",
            "Preparing to unpack .../libc6_2.35-0ubuntu3.4_amd64.deb ...\n",
            "debconf: unable to initialize frontend: Dialog\n",
            "debconf: (No usable dialog-like program is installed, so the dialog based frontend cannot be used. at /usr/share/perl5/Debconf/FrontEnd/Dialog.pm line 78.)\n",
            "debconf: falling back to frontend: Readline\n",
            "Unpacking libc6:amd64 (2.35-0ubuntu3.4) over (2.35-0ubuntu3.3) ...\n",
            "Setting up libc6:amd64 (2.35-0ubuntu3.4) ...\n",
            "debconf: unable to initialize frontend: Dialog\n",
            "debconf: (No usable dialog-like program is installed, so the dialog based frontend cannot be used. at /usr/share/perl5/Debconf/FrontEnd/Dialog.pm line 78.)\n",
            "debconf: falling back to frontend: Readline\n",
            "(Reading database ... 120893 files and directories currently installed.)\n",
            "Preparing to unpack .../base-files_12ubuntu4.4_amd64.deb ...\n",
            "Unpacking base-files (12ubuntu4.4) over (12ubuntu4.3) ...\n",
            "Setting up base-files (12ubuntu4.4) ...\n",
            "Installing new version of config file /etc/issue ...\n",
            "Installing new version of config file /etc/issue.net ...\n",
            "Installing new version of config file /etc/lsb-release ...\n",
            "(Reading database ... 120893 files and directories currently installed.)\n",
            "Preparing to unpack .../libc-bin_2.35-0ubuntu3.4_amd64.deb ...\n",
            "Unpacking libc-bin (2.35-0ubuntu3.4) over (2.35-0ubuntu3.1) ...\n",
            "Setting up libc-bin (2.35-0ubuntu3.4) ...\n",
            "/sbin/ldconfig.real: /usr/local/lib/libtbbmalloc_proxy.so.2 is not a symbolic link\n",
            "\n",
            "/sbin/ldconfig.real: /usr/local/lib/libtbbmalloc.so.2 is not a symbolic link\n",
            "\n",
            "/sbin/ldconfig.real: /usr/local/lib/libtbbbind_2_0.so.3 is not a symbolic link\n",
            "\n",
            "/sbin/ldconfig.real: /usr/local/lib/libtbbbind_2_5.so.3 is not a symbolic link\n",
            "\n",
            "/sbin/ldconfig.real: /usr/local/lib/libtbbbind.so.3 is not a symbolic link\n",
            "\n",
            "/sbin/ldconfig.real: /usr/local/lib/libtbb.so.12 is not a symbolic link\n",
            "\n",
            "(Reading database ... 120893 files and directories currently installed.)\n",
            "Preparing to unpack .../libcap2_1%3a2.44-1ubuntu0.22.04.1_amd64.deb ...\n",
            "Unpacking libcap2:amd64 (1:2.44-1ubuntu0.22.04.1) over (1:2.44-1build3) ...\n",
            "Setting up libcap2:amd64 (1:2.44-1ubuntu0.22.04.1) ...\n",
            "(Reading database ... 120893 files and directories currently installed.)\n",
            "Preparing to unpack .../libudev1_249.11-0ubuntu3.10_amd64.deb ...\n",
            "Unpacking libudev1:amd64 (249.11-0ubuntu3.10) over (249.11-0ubuntu3.9) ...\n",
            "Setting up libudev1:amd64 (249.11-0ubuntu3.10) ...\n",
            "(Reading database ... 120893 files and directories currently installed.)\n",
            "Preparing to unpack .../00-locales_2.35-0ubuntu3.4_all.deb ...\n",
            "Unpacking locales (2.35-0ubuntu3.4) over (2.35-0ubuntu3.3) ...\n",
            "Preparing to unpack .../01-libx11-dev_2%3a1.7.5-1ubuntu0.3_amd64.deb ...\n",
            "Unpacking libx11-dev:amd64 (2:1.7.5-1ubuntu0.3) over (2:1.7.5-1ubuntu0.2) ...\n",
            "Preparing to unpack .../02-libx11-data_2%3a1.7.5-1ubuntu0.3_all.deb ...\n",
            "Unpacking libx11-data (2:1.7.5-1ubuntu0.3) over (2:1.7.5-1ubuntu0.2) ...\n",
            "Preparing to unpack .../03-libx11-6_2%3a1.7.5-1ubuntu0.3_amd64.deb ...\n",
            "Unpacking libx11-6:amd64 (2:1.7.5-1ubuntu0.3) over (2:1.7.5-1ubuntu0.2) ...\n",
            "Preparing to unpack .../04-libx11-xcb1_2%3a1.7.5-1ubuntu0.3_amd64.deb ...\n",
            "Unpacking libx11-xcb1:amd64 (2:1.7.5-1ubuntu0.3) over (2:1.7.5-1ubuntu0.2) ...\n",
            "Preparing to unpack .../05-libctf0_2.38-4ubuntu2.3_amd64.deb ...\n",
            "Unpacking libctf0:amd64 (2.38-4ubuntu2.3) over (2.38-4ubuntu2.2) ...\n",
            "Preparing to unpack .../06-libctf-nobfd0_2.38-4ubuntu2.3_amd64.deb ...\n",
            "Unpacking libctf-nobfd0:amd64 (2.38-4ubuntu2.3) over (2.38-4ubuntu2.2) ...\n",
            "Preparing to unpack .../07-binutils-x86-64-linux-gnu_2.38-4ubuntu2.3_amd64.deb ...\n",
            "Unpacking binutils-x86-64-linux-gnu (2.38-4ubuntu2.3) over (2.38-4ubuntu2.2) ...\n",
            "Preparing to unpack .../08-libbinutils_2.38-4ubuntu2.3_amd64.deb ...\n",
            "Unpacking libbinutils:amd64 (2.38-4ubuntu2.3) over (2.38-4ubuntu2.2) ...\n",
            "Preparing to unpack .../09-binutils_2.38-4ubuntu2.3_amd64.deb ...\n",
            "Unpacking binutils (2.38-4ubuntu2.3) over (2.38-4ubuntu2.2) ...\n",
            "Preparing to unpack .../10-binutils-common_2.38-4ubuntu2.3_amd64.deb ...\n",
            "Unpacking binutils-common:amd64 (2.38-4ubuntu2.3) over (2.38-4ubuntu2.2) ...\n",
            "Preparing to unpack .../11-cuda-keyring_1.1-1_all.deb ...\n",
            "Unpacking cuda-keyring (1.1-1) over (1.0-1) ...\n",
            "Preparing to unpack .../12-cuda-toolkit-config-common_12.2.140-1_all.deb ...\n",
            "Unpacking cuda-toolkit-config-common (12.2.140-1) over (12.1.105-1) ...\n",
            "Preparing to unpack .../13-libldap-2.5-0_2.5.16+dfsg-0ubuntu0.22.04.1_amd64.deb ...\n",
            "Unpacking libldap-2.5-0:amd64 (2.5.16+dfsg-0ubuntu0.22.04.1) over (2.5.14+dfsg-0ubuntu0.22.04.2) ...\n",
            "Preparing to unpack .../14-libxpm4_1%3a3.5.12-1ubuntu0.22.04.2_amd64.deb ...\n",
            "Unpacking libxpm4:amd64 (1:3.5.12-1ubuntu0.22.04.2) over (1:3.5.12-1ubuntu0.22.04.1) ...\n",
            "Selecting previously unselected package linux-headers-5.15.0-86.\n",
            "Preparing to unpack .../15-linux-headers-5.15.0-86_5.15.0-86.96_all.deb ...\n",
            "Unpacking linux-headers-5.15.0-86 (5.15.0-86.96) ...\n",
            "Selecting previously unselected package linux-headers-5.15.0-86-generic.\n",
            "Preparing to unpack .../16-linux-headers-5.15.0-86-generic_5.15.0-86.96_amd64.deb ...\n",
            "Unpacking linux-headers-5.15.0-86-generic (5.15.0-86.96) ...\n",
            "Preparing to unpack .../17-linux-headers-generic_5.15.0.86.83_amd64.deb ...\n",
            "Unpacking linux-headers-generic (5.15.0.86.83) over (5.15.0.84.81) ...\n",
            "Setting up cuda-toolkit-config-common (12.2.140-1) ...\n",
            "Setting up binutils-common:amd64 (2.38-4ubuntu2.3) ...\n",
            "Setting up linux-libc-dev:amd64 (5.15.0-86.96) ...\n",
            "Setting up libctf-nobfd0:amd64 (2.38-4ubuntu2.3) ...\n",
            "Setting up locales (2.35-0ubuntu3.4) ...\n",
            "debconf: unable to initialize frontend: Dialog\n",
            "debconf: (No usable dialog-like program is installed, so the dialog based frontend cannot be used. at /usr/share/perl5/Debconf/FrontEnd/Dialog.pm line 78.)\n",
            "debconf: falling back to frontend: Readline\n",
            "Generating locales (this might take a while)...\n",
            "  en_US.UTF-8... done\n",
            "Generation complete.\n",
            "Setting up libldap-2.5-0:amd64 (2.5.16+dfsg-0ubuntu0.22.04.1) ...\n",
            "Setting up libx11-data (2:1.7.5-1ubuntu0.3) ...\n",
            "Setting up cuda-keyring (1.1-1) ...\n",
            "Setting up linux-headers-5.15.0-86 (5.15.0-86.96) ...\n",
            "Setting up linux-headers-5.15.0-86-generic (5.15.0-86.96) ...\n",
            "Setting up libc6-i386 (2.35-0ubuntu3.4) ...\n",
            "Setting up libx11-6:amd64 (2:1.7.5-1ubuntu0.3) ...\n",
            "Setting up libbinutils:amd64 (2.38-4ubuntu2.3) ...\n",
            "Setting up libc-dev-bin (2.35-0ubuntu3.4) ...\n",
            "Setting up libctf0:amd64 (2.38-4ubuntu2.3) ...\n",
            "Setting up libx11-xcb1:amd64 (2:1.7.5-1ubuntu0.3) ...\n",
            "Setting up libxpm4:amd64 (1:3.5.12-1ubuntu0.22.04.2) ...\n",
            "Setting up libx11-dev:amd64 (2:1.7.5-1ubuntu0.3) ...\n",
            "Setting up linux-headers-generic (5.15.0.86.83) ...\n",
            "Setting up libc6-dev:amd64 (2.35-0ubuntu3.4) ...\n",
            "Setting up binutils-x86-64-linux-gnu (2.38-4ubuntu2.3) ...\n",
            "Setting up binutils (2.38-4ubuntu2.3) ...\n",
            "Processing triggers for libc-bin (2.35-0ubuntu3.4) ...\n",
            "/sbin/ldconfig.real: /usr/local/lib/libtbbmalloc_proxy.so.2 is not a symbolic link\n",
            "\n",
            "/sbin/ldconfig.real: /usr/local/lib/libtbbmalloc.so.2 is not a symbolic link\n",
            "\n",
            "/sbin/ldconfig.real: /usr/local/lib/libtbbbind_2_0.so.3 is not a symbolic link\n",
            "\n",
            "/sbin/ldconfig.real: /usr/local/lib/libtbbbind_2_5.so.3 is not a symbolic link\n",
            "\n",
            "/sbin/ldconfig.real: /usr/local/lib/libtbbbind.so.3 is not a symbolic link\n",
            "\n",
            "/sbin/ldconfig.real: /usr/local/lib/libtbb.so.12 is not a symbolic link\n",
            "\n",
            "Processing triggers for man-db (2.10.2-1) ...\n"
          ]
        }
      ]
    },
    {
      "cell_type": "code",
      "source": [
        "!sudo apt install build-essential libpoppler-cpp-dev pkg-config python3-dev"
      ],
      "metadata": {
        "id": "T2s_l0dYgZzJ",
        "colab": {
          "base_uri": "https://localhost:8080/"
        },
        "outputId": "73ebf961-bf5c-4127-aa75-8dc64e37cb95"
      },
      "execution_count": null,
      "outputs": [
        {
          "output_type": "stream",
          "name": "stdout",
          "text": [
            "Reading package lists... Done\n",
            "Building dependency tree... Done\n",
            "Reading state information... Done\n",
            "build-essential is already the newest version (12.9ubuntu3).\n",
            "pkg-config is already the newest version (0.29.2-1ubuntu3).\n",
            "python3-dev is already the newest version (3.10.6-1~22.04).\n",
            "python3-dev set to manually installed.\n",
            "The following packages were automatically installed and are no longer required:\n",
            "  linux-headers-5.15.0-84 linux-headers-5.15.0-84-generic\n",
            "Use 'sudo apt autoremove' to remove them.\n",
            "The following additional packages will be installed:\n",
            "  libpoppler-cpp0v5\n",
            "The following NEW packages will be installed:\n",
            "  libpoppler-cpp-dev libpoppler-cpp0v5\n",
            "0 upgraded, 2 newly installed, 0 to remove and 4 not upgraded.\n",
            "Need to get 50.4 kB of archives.\n",
            "After this operation, 231 kB of additional disk space will be used.\n",
            "Get:1 http://archive.ubuntu.com/ubuntu jammy-updates/main amd64 libpoppler-cpp0v5 amd64 22.02.0-2ubuntu0.2 [38.7 kB]\n",
            "Get:2 http://archive.ubuntu.com/ubuntu jammy-updates/main amd64 libpoppler-cpp-dev amd64 22.02.0-2ubuntu0.2 [11.8 kB]\n",
            "Fetched 50.4 kB in 0s (291 kB/s)\n",
            "debconf: unable to initialize frontend: Dialog\n",
            "debconf: (No usable dialog-like program is installed, so the dialog based frontend cannot be used. at /usr/share/perl5/Debconf/FrontEnd/Dialog.pm line 78, <> line 2.)\n",
            "debconf: falling back to frontend: Readline\n",
            "debconf: unable to initialize frontend: Readline\n",
            "debconf: (This frontend requires a controlling tty.)\n",
            "debconf: falling back to frontend: Teletype\n",
            "dpkg-preconfigure: unable to re-open stdin: \n",
            "Selecting previously unselected package libpoppler-cpp0v5:amd64.\n",
            "(Reading database ... 149151 files and directories currently installed.)\n",
            "Preparing to unpack .../libpoppler-cpp0v5_22.02.0-2ubuntu0.2_amd64.deb ...\n",
            "Unpacking libpoppler-cpp0v5:amd64 (22.02.0-2ubuntu0.2) ...\n",
            "Selecting previously unselected package libpoppler-cpp-dev:amd64.\n",
            "Preparing to unpack .../libpoppler-cpp-dev_22.02.0-2ubuntu0.2_amd64.deb ...\n",
            "Unpacking libpoppler-cpp-dev:amd64 (22.02.0-2ubuntu0.2) ...\n",
            "Setting up libpoppler-cpp0v5:amd64 (22.02.0-2ubuntu0.2) ...\n",
            "Setting up libpoppler-cpp-dev:amd64 (22.02.0-2ubuntu0.2) ...\n",
            "Processing triggers for libc-bin (2.35-0ubuntu3.4) ...\n",
            "/sbin/ldconfig.real: /usr/local/lib/libtbbmalloc_proxy.so.2 is not a symbolic link\n",
            "\n",
            "/sbin/ldconfig.real: /usr/local/lib/libtbbmalloc.so.2 is not a symbolic link\n",
            "\n",
            "/sbin/ldconfig.real: /usr/local/lib/libtbbbind_2_0.so.3 is not a symbolic link\n",
            "\n",
            "/sbin/ldconfig.real: /usr/local/lib/libtbbbind_2_5.so.3 is not a symbolic link\n",
            "\n",
            "/sbin/ldconfig.real: /usr/local/lib/libtbbbind.so.3 is not a symbolic link\n",
            "\n",
            "/sbin/ldconfig.real: /usr/local/lib/libtbb.so.12 is not a symbolic link\n",
            "\n"
          ]
        }
      ]
    },
    {
      "cell_type": "code",
      "source": [
        "!sudo apt install texlive-extra-utils"
      ],
      "metadata": {
        "id": "L7KMR76ugpkr",
        "colab": {
          "base_uri": "https://localhost:8080/"
        },
        "outputId": "ec96f10f-ea3d-4738-de31-10a4753f62a4"
      },
      "execution_count": null,
      "outputs": [
        {
          "output_type": "stream",
          "name": "stdout",
          "text": [
            "Reading package lists... Done\n",
            "Building dependency tree... Done\n",
            "Reading state information... Done\n",
            "The following packages were automatically installed and are no longer required:\n",
            "  linux-headers-5.15.0-84 linux-headers-5.15.0-84-generic\n",
            "Use 'sudo apt autoremove' to remove them.\n",
            "The following additional packages will be installed:\n",
            "  dvisvgm fonts-droid-fallback fonts-lato fonts-lmodern fonts-noto-mono\n",
            "  fonts-urw-base35 ghostscript libalgorithm-c3-perl libauthen-sasl-perl\n",
            "  libb-hooks-endofscope-perl libb-hooks-op-check-perl libclass-c3-perl\n",
            "  libclass-c3-xs-perl libclass-data-inheritable-perl\n",
            "  libclass-method-modifiers-perl libclass-xsaccessor-perl libcommon-sense-perl\n",
            "  libdata-optlist-perl libdevel-callchecker-perl libdevel-caller-perl\n",
            "  libdevel-globaldestruction-perl libdevel-lexalias-perl\n",
            "  libdevel-stacktrace-perl libdist-checkconflicts-perl\n",
            "  libdynaloader-functions-perl libemail-date-format-perl libeval-closure-perl\n",
            "  libexception-class-perl libfile-homedir-perl libfile-which-perl libfontenc1\n",
            "  libgs9 libgs9-common libidn12 libijs-0.35 libio-socket-ssl-perl\n",
            "  libipc-shareable-perl libjbig2dec0 libjson-perl libjson-xs-perl libkpathsea6\n",
            "  liblog-dispatch-perl liblog-log4perl-perl libmail-sendmail-perl\n",
            "  libmailtools-perl libmime-charset-perl libmime-lite-perl libmime-types-perl\n",
            "  libmodule-implementation-perl libmodule-runtime-perl libmro-compat-perl\n",
            "  libnamespace-autoclean-perl libnamespace-clean-perl libnet-smtp-ssl-perl\n",
            "  libnet-ssleay-perl libpackage-stash-perl libpackage-stash-xs-perl\n",
            "  libpadwalker-perl libparams-classify-perl libparams-util-perl\n",
            "  libparams-validationcompiler-perl libptexenc1 libreadonly-perl\n",
            "  libref-util-perl libref-util-xs-perl librole-tiny-perl libruby3.0 libsombok3\n",
            "  libspecio-perl libstring-crc32-perl libsub-exporter-perl\n",
            "  libsub-exporter-progressive-perl libsub-identify-perl libsub-install-perl\n",
            "  libsub-name-perl libsub-quote-perl libsynctex2 libsys-hostname-long-perl\n",
            "  libteckit0 libtexlua53 libtexluajit2 libtry-tiny-perl\n",
            "  libtypes-serialiser-perl libunicode-linebreak-perl liburi-perl\n",
            "  libvariable-magic-perl libwoff1 libxstring-perl libyaml-tiny-perl\n",
            "  libzzip-0-13 lmodern netbase perl-openssl-defaults poppler-data rake ruby\n",
            "  ruby-net-telnet ruby-rubygems ruby-webrick ruby-xmlrpc ruby3.0\n",
            "  rubygems-integration t1utils tex-common texlive-base texlive-binaries\n",
            "  texlive-latex-base texlive-latex-recommended texlive-luatex\n",
            "  texlive-plain-generic xfonts-encodings xfonts-utils\n",
            "Suggested packages:\n",
            "  fonts-noto fonts-freefont-otf | fonts-freefont-ttf fonts-texgyre\n",
            "  ghostscript-x libdigest-hmac-perl libgssapi-perl libdbd-csv-perl\n",
            "  liblog-dispatch-filerotate-perl librrds-perl libxml-dom-perl\n",
            "  libencode-hanextra-perl libpod2-base-perl default-mta | mail-transport-agent\n",
            "  libmojolicious-perl libscalar-number-perl libtest-fatal-perl\n",
            "  libbusiness-isbn-perl libwww-perl poppler-utils fonts-japanese-mincho\n",
            "  | fonts-ipafont-mincho fonts-japanese-gothic | fonts-ipafont-gothic\n",
            "  fonts-arphic-ukai fonts-arphic-uming fonts-nanum ri ruby-dev bundler\n",
            "  debhelper perl-tk xpdf | pdf-viewer xzdec chktex default-jre-headless dvidvi\n",
            "  dvipng fragmaster lacheck latexdiff latexmk purifyeps xindy\n",
            "  texlive-latex-base-doc texlive-latex-recommended-doc texlive-pstricks\n",
            "The following NEW packages will be installed:\n",
            "  dvisvgm fonts-droid-fallback fonts-lato fonts-lmodern fonts-noto-mono\n",
            "  fonts-urw-base35 ghostscript libalgorithm-c3-perl libauthen-sasl-perl\n",
            "  libb-hooks-endofscope-perl libb-hooks-op-check-perl libclass-c3-perl\n",
            "  libclass-c3-xs-perl libclass-data-inheritable-perl\n",
            "  libclass-method-modifiers-perl libclass-xsaccessor-perl libcommon-sense-perl\n",
            "  libdata-optlist-perl libdevel-callchecker-perl libdevel-caller-perl\n",
            "  libdevel-globaldestruction-perl libdevel-lexalias-perl\n",
            "  libdevel-stacktrace-perl libdist-checkconflicts-perl\n",
            "  libdynaloader-functions-perl libemail-date-format-perl libeval-closure-perl\n",
            "  libexception-class-perl libfile-homedir-perl libfile-which-perl libfontenc1\n",
            "  libgs9 libgs9-common libidn12 libijs-0.35 libio-socket-ssl-perl\n",
            "  libipc-shareable-perl libjbig2dec0 libjson-perl libjson-xs-perl libkpathsea6\n",
            "  liblog-dispatch-perl liblog-log4perl-perl libmail-sendmail-perl\n",
            "  libmailtools-perl libmime-charset-perl libmime-lite-perl libmime-types-perl\n",
            "  libmodule-implementation-perl libmodule-runtime-perl libmro-compat-perl\n",
            "  libnamespace-autoclean-perl libnamespace-clean-perl libnet-smtp-ssl-perl\n",
            "  libnet-ssleay-perl libpackage-stash-perl libpackage-stash-xs-perl\n",
            "  libpadwalker-perl libparams-classify-perl libparams-util-perl\n",
            "  libparams-validationcompiler-perl libptexenc1 libreadonly-perl\n",
            "  libref-util-perl libref-util-xs-perl librole-tiny-perl libruby3.0 libsombok3\n",
            "  libspecio-perl libstring-crc32-perl libsub-exporter-perl\n",
            "  libsub-exporter-progressive-perl libsub-identify-perl libsub-install-perl\n",
            "  libsub-name-perl libsub-quote-perl libsynctex2 libsys-hostname-long-perl\n",
            "  libteckit0 libtexlua53 libtexluajit2 libtry-tiny-perl\n",
            "  libtypes-serialiser-perl libunicode-linebreak-perl liburi-perl\n",
            "  libvariable-magic-perl libwoff1 libxstring-perl libyaml-tiny-perl\n",
            "  libzzip-0-13 lmodern netbase perl-openssl-defaults poppler-data rake ruby\n",
            "  ruby-net-telnet ruby-rubygems ruby-webrick ruby-xmlrpc ruby3.0\n",
            "  rubygems-integration t1utils tex-common texlive-base texlive-binaries\n",
            "  texlive-extra-utils texlive-latex-base texlive-latex-recommended\n",
            "  texlive-luatex texlive-plain-generic xfonts-encodings xfonts-utils\n",
            "0 upgraded, 113 newly installed, 0 to remove and 4 not upgraded.\n",
            "Need to get 188 MB of archives.\n",
            "After this operation, 465 MB of additional disk space will be used.\n",
            "Get:1 http://archive.ubuntu.com/ubuntu jammy/main amd64 fonts-droid-fallback all 1:6.0.1r16-1.1build1 [1,805 kB]\n",
            "Get:2 http://archive.ubuntu.com/ubuntu jammy/main amd64 fonts-lato all 2.0-2.1 [2,696 kB]\n",
            "Get:3 http://archive.ubuntu.com/ubuntu jammy/main amd64 poppler-data all 0.4.11-1 [2,171 kB]\n",
            "Get:4 http://archive.ubuntu.com/ubuntu jammy/universe amd64 tex-common all 6.17 [33.7 kB]\n",
            "Get:5 http://archive.ubuntu.com/ubuntu jammy/main amd64 netbase all 6.3 [12.9 kB]\n",
            "Get:6 http://archive.ubuntu.com/ubuntu jammy/main amd64 fonts-urw-base35 all 20200910-1 [6,367 kB]\n",
            "Get:7 http://archive.ubuntu.com/ubuntu jammy-updates/main amd64 libgs9-common all 9.55.0~dfsg1-0ubuntu5.4 [752 kB]\n",
            "Get:8 http://archive.ubuntu.com/ubuntu jammy-updates/main amd64 libidn12 amd64 1.38-4ubuntu1 [60.0 kB]\n",
            "Get:9 http://archive.ubuntu.com/ubuntu jammy/main amd64 libijs-0.35 amd64 0.35-15build2 [16.5 kB]\n",
            "Get:10 http://archive.ubuntu.com/ubuntu jammy/main amd64 libjbig2dec0 amd64 0.19-3build2 [64.7 kB]\n",
            "Get:11 http://archive.ubuntu.com/ubuntu jammy-updates/main amd64 libgs9 amd64 9.55.0~dfsg1-0ubuntu5.4 [5,032 kB]\n",
            "Get:12 http://archive.ubuntu.com/ubuntu jammy-updates/main amd64 libkpathsea6 amd64 2021.20210626.59705-1ubuntu0.1 [60.3 kB]\n",
            "Get:13 http://archive.ubuntu.com/ubuntu jammy/main amd64 libwoff1 amd64 1.0.2-1build4 [45.2 kB]\n",
            "Get:14 http://archive.ubuntu.com/ubuntu jammy/universe amd64 dvisvgm amd64 2.13.1-1 [1,221 kB]\n",
            "Get:15 http://archive.ubuntu.com/ubuntu jammy/universe amd64 fonts-lmodern all 2.004.5-6.1 [4,532 kB]\n",
            "Get:16 http://archive.ubuntu.com/ubuntu jammy/main amd64 fonts-noto-mono all 20201225-1build1 [397 kB]\n",
            "Get:17 http://archive.ubuntu.com/ubuntu jammy-updates/main amd64 ghostscript amd64 9.55.0~dfsg1-0ubuntu5.4 [49.4 kB]\n",
            "Get:18 http://archive.ubuntu.com/ubuntu jammy/universe amd64 libalgorithm-c3-perl all 0.11-1 [11.0 kB]\n",
            "Get:19 http://archive.ubuntu.com/ubuntu jammy/main amd64 libb-hooks-op-check-perl amd64 0.22-1build5 [10.3 kB]\n",
            "Get:20 http://archive.ubuntu.com/ubuntu jammy/main amd64 libdynaloader-functions-perl all 0.003-1.1 [12.1 kB]\n",
            "Get:21 http://archive.ubuntu.com/ubuntu jammy/main amd64 libdevel-callchecker-perl amd64 0.008-1ubuntu4 [14.9 kB]\n",
            "Get:22 http://archive.ubuntu.com/ubuntu jammy/main amd64 libparams-classify-perl amd64 0.015-1build5 [22.0 kB]\n",
            "Get:23 http://archive.ubuntu.com/ubuntu jammy/main amd64 libmodule-runtime-perl all 0.016-1 [16.2 kB]\n",
            "Get:24 http://archive.ubuntu.com/ubuntu jammy/main amd64 libtry-tiny-perl all 0.31-1 [21.8 kB]\n",
            "Get:25 http://archive.ubuntu.com/ubuntu jammy/main amd64 libmodule-implementation-perl all 0.09-1.1 [11.6 kB]\n",
            "Get:26 http://archive.ubuntu.com/ubuntu jammy/main amd64 libsub-exporter-progressive-perl all 0.001013-1 [6,784 B]\n",
            "Get:27 http://archive.ubuntu.com/ubuntu jammy/main amd64 libvariable-magic-perl amd64 0.62-1build5 [35.9 kB]\n",
            "Get:28 http://archive.ubuntu.com/ubuntu jammy/main amd64 libb-hooks-endofscope-perl all 0.25-1 [17.8 kB]\n",
            "Get:29 http://archive.ubuntu.com/ubuntu jammy/universe amd64 libclass-c3-perl all 0.35-1 [19.0 kB]\n",
            "Get:30 http://archive.ubuntu.com/ubuntu jammy/universe amd64 libclass-c3-xs-perl amd64 0.15-1build2 [16.7 kB]\n",
            "Get:31 http://archive.ubuntu.com/ubuntu jammy/main amd64 libclass-data-inheritable-perl all 0.08-3 [8,084 B]\n",
            "Get:32 http://archive.ubuntu.com/ubuntu jammy/main amd64 libclass-method-modifiers-perl all 2.13-1 [16.2 kB]\n",
            "Get:33 http://archive.ubuntu.com/ubuntu jammy/main amd64 libclass-xsaccessor-perl amd64 1.19-3build9 [34.1 kB]\n",
            "Get:34 http://archive.ubuntu.com/ubuntu jammy/main amd64 libcommon-sense-perl amd64 3.75-2build1 [21.1 kB]\n",
            "Get:35 http://archive.ubuntu.com/ubuntu jammy/main amd64 libparams-util-perl amd64 1.102-1build3 [22.7 kB]\n",
            "Get:36 http://archive.ubuntu.com/ubuntu jammy/main amd64 libsub-install-perl all 0.928-1.1 [9,972 B]\n",
            "Get:37 http://archive.ubuntu.com/ubuntu jammy/main amd64 libdata-optlist-perl all 0.112-1 [11.0 kB]\n",
            "Get:38 http://archive.ubuntu.com/ubuntu jammy/universe amd64 libpadwalker-perl amd64 2.5-1build2 [15.9 kB]\n",
            "Get:39 http://archive.ubuntu.com/ubuntu jammy/universe amd64 libdevel-caller-perl amd64 2.06-2build4 [11.1 kB]\n",
            "Get:40 http://archive.ubuntu.com/ubuntu jammy/universe amd64 libdevel-globaldestruction-perl all 0.14-1.1 [6,916 B]\n",
            "Get:41 http://archive.ubuntu.com/ubuntu jammy/universe amd64 libdevel-lexalias-perl amd64 0.05-2build4 [9,070 B]\n",
            "Get:42 http://archive.ubuntu.com/ubuntu jammy/main amd64 libdevel-stacktrace-perl all 2.0400-1 [22.7 kB]\n",
            "Get:43 http://archive.ubuntu.com/ubuntu jammy/universe amd64 libdist-checkconflicts-perl all 0.11-1.1 [9,632 B]\n",
            "Get:44 http://archive.ubuntu.com/ubuntu jammy/main amd64 libemail-date-format-perl all 1.005-1.1 [6,088 B]\n",
            "Get:45 http://archive.ubuntu.com/ubuntu jammy/main amd64 libsub-exporter-perl all 0.988-1 [50.6 kB]\n",
            "Get:46 http://archive.ubuntu.com/ubuntu jammy/universe amd64 libeval-closure-perl all 0.14-1 [10.3 kB]\n",
            "Get:47 http://archive.ubuntu.com/ubuntu jammy/main amd64 libexception-class-perl all 1.45-1 [28.6 kB]\n",
            "Get:48 http://archive.ubuntu.com/ubuntu jammy/main amd64 libfile-which-perl all 1.23-1 [13.8 kB]\n",
            "Get:49 http://archive.ubuntu.com/ubuntu jammy/main amd64 libfile-homedir-perl all 1.006-1 [38.3 kB]\n",
            "Get:50 http://archive.ubuntu.com/ubuntu jammy/main amd64 libfontenc1 amd64 1:1.1.4-1build3 [14.7 kB]\n",
            "Get:51 http://archive.ubuntu.com/ubuntu jammy/main amd64 perl-openssl-defaults amd64 5build2 [7,542 B]\n",
            "Get:52 http://archive.ubuntu.com/ubuntu jammy/main amd64 libnet-ssleay-perl amd64 1.92-1build2 [327 kB]\n",
            "Get:53 http://archive.ubuntu.com/ubuntu jammy/main amd64 libio-socket-ssl-perl all 2.074-2 [192 kB]\n",
            "Get:54 http://archive.ubuntu.com/ubuntu jammy/main amd64 libjson-perl all 4.04000-1 [81.8 kB]\n",
            "Get:55 http://archive.ubuntu.com/ubuntu jammy/universe amd64 libstring-crc32-perl amd64 2.100-1build1 [11.1 kB]\n",
            "Get:56 http://archive.ubuntu.com/ubuntu jammy/universe amd64 libipc-shareable-perl all 1.06-2 [36.8 kB]\n",
            "Get:57 http://archive.ubuntu.com/ubuntu jammy/main amd64 libtypes-serialiser-perl all 1.01-1 [11.6 kB]\n",
            "Get:58 http://archive.ubuntu.com/ubuntu jammy/main amd64 libjson-xs-perl amd64 4.030-1build3 [87.2 kB]\n",
            "Get:59 http://archive.ubuntu.com/ubuntu jammy/main amd64 libpackage-stash-perl all 0.39-1 [19.1 kB]\n",
            "Get:60 http://archive.ubuntu.com/ubuntu jammy/main amd64 libsub-identify-perl amd64 0.14-1build5 [10.4 kB]\n",
            "Get:61 http://archive.ubuntu.com/ubuntu jammy/main amd64 libsub-name-perl amd64 0.26-1build3 [11.4 kB]\n",
            "Get:62 http://archive.ubuntu.com/ubuntu jammy/main amd64 libnamespace-clean-perl all 0.27-1 [13.6 kB]\n",
            "Get:63 http://archive.ubuntu.com/ubuntu jammy/main amd64 libnamespace-autoclean-perl all 0.29-1 [12.5 kB]\n",
            "Get:64 http://archive.ubuntu.com/ubuntu jammy/universe amd64 libparams-validationcompiler-perl all 0.30-1 [28.9 kB]\n",
            "Get:65 http://archive.ubuntu.com/ubuntu jammy/universe amd64 libmro-compat-perl all 0.15-1 [11.7 kB]\n",
            "Get:66 http://archive.ubuntu.com/ubuntu jammy/main amd64 librole-tiny-perl all 2.002004-1 [16.3 kB]\n",
            "Get:67 http://archive.ubuntu.com/ubuntu jammy/main amd64 libsub-quote-perl all 2.006006-1 [19.5 kB]\n",
            "Get:68 http://archive.ubuntu.com/ubuntu jammy/universe amd64 libxstring-perl amd64 0.005-1build2 [8,076 B]\n",
            "Get:69 http://archive.ubuntu.com/ubuntu jammy/universe amd64 libspecio-perl all 0.47-1 [140 kB]\n",
            "Get:70 http://archive.ubuntu.com/ubuntu jammy/universe amd64 liblog-dispatch-perl all 2.70-1 [66.8 kB]\n",
            "Get:71 http://archive.ubuntu.com/ubuntu jammy/universe amd64 liblog-log4perl-perl all 1.54-1 [343 kB]\n",
            "Get:72 http://archive.ubuntu.com/ubuntu jammy/main amd64 libsys-hostname-long-perl all 1.5-2 [11.5 kB]\n",
            "Get:73 http://archive.ubuntu.com/ubuntu jammy/main amd64 libmail-sendmail-perl all 0.80-1.1 [22.7 kB]\n",
            "Get:74 http://archive.ubuntu.com/ubuntu jammy/main amd64 libnet-smtp-ssl-perl all 1.04-1 [5,948 B]\n",
            "Get:75 http://archive.ubuntu.com/ubuntu jammy/main amd64 libmailtools-perl all 2.21-1 [80.7 kB]\n",
            "Get:76 http://archive.ubuntu.com/ubuntu jammy/universe amd64 libmime-charset-perl all 1.012.2-1 [30.9 kB]\n",
            "Get:77 http://archive.ubuntu.com/ubuntu jammy/main amd64 libmime-lite-perl all 3.033-1 [64.2 kB]\n",
            "Get:78 http://archive.ubuntu.com/ubuntu jammy/main amd64 libmime-types-perl all 2.22-1 [64.3 kB]\n",
            "Get:79 http://archive.ubuntu.com/ubuntu jammy/main amd64 libpackage-stash-xs-perl amd64 0.29-1build5 [19.4 kB]\n",
            "Get:80 http://archive.ubuntu.com/ubuntu jammy-updates/main amd64 libptexenc1 amd64 2021.20210626.59705-1ubuntu0.1 [39.1 kB]\n",
            "Get:81 http://archive.ubuntu.com/ubuntu jammy/main amd64 libreadonly-perl all 2.050-3 [19.9 kB]\n",
            "Get:82 http://archive.ubuntu.com/ubuntu jammy/main amd64 libref-util-perl all 0.204-1 [15.0 kB]\n",
            "Get:83 http://archive.ubuntu.com/ubuntu jammy/main amd64 libref-util-xs-perl amd64 0.117-1build5 [12.7 kB]\n",
            "Get:84 http://archive.ubuntu.com/ubuntu jammy/main amd64 rubygems-integration all 1.18 [5,336 B]\n",
            "Get:85 http://archive.ubuntu.com/ubuntu jammy-updates/main amd64 ruby3.0 amd64 3.0.2-7ubuntu2.4 [50.1 kB]\n",
            "Get:86 http://archive.ubuntu.com/ubuntu jammy/main amd64 ruby-rubygems all 3.3.5-2 [228 kB]\n",
            "Get:87 http://archive.ubuntu.com/ubuntu jammy/main amd64 ruby amd64 1:3.0~exp1 [5,100 B]\n",
            "Get:88 http://archive.ubuntu.com/ubuntu jammy/main amd64 rake all 13.0.6-2 [61.7 kB]\n",
            "Get:89 http://archive.ubuntu.com/ubuntu jammy/main amd64 ruby-net-telnet all 0.1.1-2 [12.6 kB]\n",
            "Get:90 http://archive.ubuntu.com/ubuntu jammy/universe amd64 ruby-webrick all 1.7.0-3 [51.8 kB]\n",
            "Get:91 http://archive.ubuntu.com/ubuntu jammy-updates/main amd64 ruby-xmlrpc all 0.3.2-1ubuntu0.1 [24.9 kB]\n",
            "Get:92 http://archive.ubuntu.com/ubuntu jammy-updates/main amd64 libruby3.0 amd64 3.0.2-7ubuntu2.4 [5,113 kB]\n",
            "Get:93 http://archive.ubuntu.com/ubuntu jammy/universe amd64 libsombok3 amd64 2.4.0-2 [26.9 kB]\n",
            "Get:94 http://archive.ubuntu.com/ubuntu jammy-updates/main amd64 libsynctex2 amd64 2021.20210626.59705-1ubuntu0.1 [55.5 kB]\n",
            "Get:95 http://archive.ubuntu.com/ubuntu jammy/universe amd64 libteckit0 amd64 2.5.11+ds1-1 [421 kB]\n",
            "Get:96 http://archive.ubuntu.com/ubuntu jammy-updates/main amd64 libtexlua53 amd64 2021.20210626.59705-1ubuntu0.1 [120 kB]\n",
            "Get:97 http://archive.ubuntu.com/ubuntu jammy-updates/main amd64 libtexluajit2 amd64 2021.20210626.59705-1ubuntu0.1 [267 kB]\n",
            "Get:98 http://archive.ubuntu.com/ubuntu jammy/universe amd64 libunicode-linebreak-perl amd64 0.0.20190101-1build3 [99.1 kB]\n",
            "Get:99 http://archive.ubuntu.com/ubuntu jammy/main amd64 liburi-perl all 5.10-1 [78.8 kB]\n",
            "Get:100 http://archive.ubuntu.com/ubuntu jammy/main amd64 libyaml-tiny-perl all 1.73-1 [25.2 kB]\n",
            "Get:101 http://archive.ubuntu.com/ubuntu jammy/universe amd64 libzzip-0-13 amd64 0.13.72+dfsg.1-1.1 [27.0 kB]\n",
            "Get:102 http://archive.ubuntu.com/ubuntu jammy/main amd64 xfonts-encodings all 1:1.0.5-0ubuntu2 [578 kB]\n",
            "Get:103 http://archive.ubuntu.com/ubuntu jammy/main amd64 xfonts-utils amd64 1:7.7+6build2 [94.6 kB]\n",
            "Get:104 http://archive.ubuntu.com/ubuntu jammy/universe amd64 lmodern all 2.004.5-6.1 [9,471 kB]\n",
            "Get:105 http://archive.ubuntu.com/ubuntu jammy/main amd64 t1utils amd64 1.41-4build2 [61.3 kB]\n",
            "Get:106 http://archive.ubuntu.com/ubuntu jammy-updates/universe amd64 texlive-binaries amd64 2021.20210626.59705-1ubuntu0.1 [9,848 kB]\n",
            "Get:107 http://archive.ubuntu.com/ubuntu jammy/universe amd64 texlive-base all 2021.20220204-1 [21.0 MB]\n",
            "Get:108 http://archive.ubuntu.com/ubuntu jammy/universe amd64 texlive-latex-base all 2021.20220204-1 [1,128 kB]\n",
            "Get:109 http://archive.ubuntu.com/ubuntu jammy/universe amd64 texlive-luatex all 2021.20220204-1 [17.4 MB]\n",
            "Get:110 http://archive.ubuntu.com/ubuntu jammy/universe amd64 texlive-plain-generic all 2021.20220204-1 [27.5 MB]\n",
            "Get:111 http://archive.ubuntu.com/ubuntu jammy/universe amd64 texlive-extra-utils all 2021.20220204-1 [52.0 MB]\n",
            "Get:112 http://archive.ubuntu.com/ubuntu jammy/universe amd64 texlive-latex-recommended all 2021.20220204-1 [14.4 MB]\n",
            "Get:113 http://archive.ubuntu.com/ubuntu jammy/main amd64 libauthen-sasl-perl all 2.1600-1.1 [43.1 kB]\n",
            "Fetched 188 MB in 3s (60.7 MB/s)\n",
            "debconf: unable to initialize frontend: Dialog\n",
            "debconf: (No usable dialog-like program is installed, so the dialog based frontend cannot be used. at /usr/share/perl5/Debconf/FrontEnd/Dialog.pm line 78, <> line 113.)\n",
            "debconf: falling back to frontend: Readline\n",
            "debconf: unable to initialize frontend: Readline\n",
            "debconf: (This frontend requires a controlling tty.)\n",
            "debconf: falling back to frontend: Teletype\n",
            "dpkg-preconfigure: unable to re-open stdin: \n",
            "Selecting previously unselected package fonts-droid-fallback.\n",
            "(Reading database ... 149176 files and directories currently installed.)\n",
            "Preparing to unpack .../000-fonts-droid-fallback_1%3a6.0.1r16-1.1build1_all.deb ...\n",
            "Unpacking fonts-droid-fallback (1:6.0.1r16-1.1build1) ...\n",
            "Selecting previously unselected package fonts-lato.\n",
            "Preparing to unpack .../001-fonts-lato_2.0-2.1_all.deb ...\n",
            "Unpacking fonts-lato (2.0-2.1) ...\n",
            "Selecting previously unselected package poppler-data.\n",
            "Preparing to unpack .../002-poppler-data_0.4.11-1_all.deb ...\n",
            "Unpacking poppler-data (0.4.11-1) ...\n",
            "Selecting previously unselected package tex-common.\n",
            "Preparing to unpack .../003-tex-common_6.17_all.deb ...\n",
            "Unpacking tex-common (6.17) ...\n",
            "Selecting previously unselected package netbase.\n",
            "Preparing to unpack .../004-netbase_6.3_all.deb ...\n",
            "Unpacking netbase (6.3) ...\n",
            "Selecting previously unselected package fonts-urw-base35.\n",
            "Preparing to unpack .../005-fonts-urw-base35_20200910-1_all.deb ...\n",
            "Unpacking fonts-urw-base35 (20200910-1) ...\n",
            "Selecting previously unselected package libgs9-common.\n",
            "Preparing to unpack .../006-libgs9-common_9.55.0~dfsg1-0ubuntu5.4_all.deb ...\n",
            "Unpacking libgs9-common (9.55.0~dfsg1-0ubuntu5.4) ...\n",
            "Selecting previously unselected package libidn12:amd64.\n",
            "Preparing to unpack .../007-libidn12_1.38-4ubuntu1_amd64.deb ...\n",
            "Unpacking libidn12:amd64 (1.38-4ubuntu1) ...\n",
            "Selecting previously unselected package libijs-0.35:amd64.\n",
            "Preparing to unpack .../008-libijs-0.35_0.35-15build2_amd64.deb ...\n",
            "Unpacking libijs-0.35:amd64 (0.35-15build2) ...\n",
            "Selecting previously unselected package libjbig2dec0:amd64.\n",
            "Preparing to unpack .../009-libjbig2dec0_0.19-3build2_amd64.deb ...\n",
            "Unpacking libjbig2dec0:amd64 (0.19-3build2) ...\n",
            "Selecting previously unselected package libgs9:amd64.\n",
            "Preparing to unpack .../010-libgs9_9.55.0~dfsg1-0ubuntu5.4_amd64.deb ...\n",
            "Unpacking libgs9:amd64 (9.55.0~dfsg1-0ubuntu5.4) ...\n",
            "Selecting previously unselected package libkpathsea6:amd64.\n",
            "Preparing to unpack .../011-libkpathsea6_2021.20210626.59705-1ubuntu0.1_amd64.deb ...\n",
            "Unpacking libkpathsea6:amd64 (2021.20210626.59705-1ubuntu0.1) ...\n",
            "Selecting previously unselected package libwoff1:amd64.\n",
            "Preparing to unpack .../012-libwoff1_1.0.2-1build4_amd64.deb ...\n",
            "Unpacking libwoff1:amd64 (1.0.2-1build4) ...\n",
            "Selecting previously unselected package dvisvgm.\n",
            "Preparing to unpack .../013-dvisvgm_2.13.1-1_amd64.deb ...\n",
            "Unpacking dvisvgm (2.13.1-1) ...\n",
            "Selecting previously unselected package fonts-lmodern.\n",
            "Preparing to unpack .../014-fonts-lmodern_2.004.5-6.1_all.deb ...\n",
            "Unpacking fonts-lmodern (2.004.5-6.1) ...\n",
            "Selecting previously unselected package fonts-noto-mono.\n",
            "Preparing to unpack .../015-fonts-noto-mono_20201225-1build1_all.deb ...\n",
            "Unpacking fonts-noto-mono (20201225-1build1) ...\n",
            "Selecting previously unselected package ghostscript.\n",
            "Preparing to unpack .../016-ghostscript_9.55.0~dfsg1-0ubuntu5.4_amd64.deb ...\n",
            "Unpacking ghostscript (9.55.0~dfsg1-0ubuntu5.4) ...\n",
            "Selecting previously unselected package libalgorithm-c3-perl.\n",
            "Preparing to unpack .../017-libalgorithm-c3-perl_0.11-1_all.deb ...\n",
            "Unpacking libalgorithm-c3-perl (0.11-1) ...\n",
            "Selecting previously unselected package libb-hooks-op-check-perl.\n",
            "Preparing to unpack .../018-libb-hooks-op-check-perl_0.22-1build5_amd64.deb ...\n",
            "Unpacking libb-hooks-op-check-perl (0.22-1build5) ...\n",
            "Selecting previously unselected package libdynaloader-functions-perl.\n",
            "Preparing to unpack .../019-libdynaloader-functions-perl_0.003-1.1_all.deb ...\n",
            "Unpacking libdynaloader-functions-perl (0.003-1.1) ...\n",
            "Selecting previously unselected package libdevel-callchecker-perl.\n",
            "Preparing to unpack .../020-libdevel-callchecker-perl_0.008-1ubuntu4_amd64.deb ...\n",
            "Unpacking libdevel-callchecker-perl (0.008-1ubuntu4) ...\n",
            "Selecting previously unselected package libparams-classify-perl.\n",
            "Preparing to unpack .../021-libparams-classify-perl_0.015-1build5_amd64.deb ...\n",
            "Unpacking libparams-classify-perl (0.015-1build5) ...\n",
            "Selecting previously unselected package libmodule-runtime-perl.\n",
            "Preparing to unpack .../022-libmodule-runtime-perl_0.016-1_all.deb ...\n",
            "Unpacking libmodule-runtime-perl (0.016-1) ...\n",
            "Selecting previously unselected package libtry-tiny-perl.\n",
            "Preparing to unpack .../023-libtry-tiny-perl_0.31-1_all.deb ...\n",
            "Unpacking libtry-tiny-perl (0.31-1) ...\n",
            "Selecting previously unselected package libmodule-implementation-perl.\n",
            "Preparing to unpack .../024-libmodule-implementation-perl_0.09-1.1_all.deb ...\n",
            "Unpacking libmodule-implementation-perl (0.09-1.1) ...\n",
            "Selecting previously unselected package libsub-exporter-progressive-perl.\n",
            "Preparing to unpack .../025-libsub-exporter-progressive-perl_0.001013-1_all.deb ...\n",
            "Unpacking libsub-exporter-progressive-perl (0.001013-1) ...\n",
            "Selecting previously unselected package libvariable-magic-perl.\n",
            "Preparing to unpack .../026-libvariable-magic-perl_0.62-1build5_amd64.deb ...\n",
            "Unpacking libvariable-magic-perl (0.62-1build5) ...\n",
            "Selecting previously unselected package libb-hooks-endofscope-perl.\n",
            "Preparing to unpack .../027-libb-hooks-endofscope-perl_0.25-1_all.deb ...\n",
            "Unpacking libb-hooks-endofscope-perl (0.25-1) ...\n",
            "Selecting previously unselected package libclass-c3-perl.\n",
            "Preparing to unpack .../028-libclass-c3-perl_0.35-1_all.deb ...\n",
            "Unpacking libclass-c3-perl (0.35-1) ...\n",
            "Selecting previously unselected package libclass-c3-xs-perl.\n",
            "Preparing to unpack .../029-libclass-c3-xs-perl_0.15-1build2_amd64.deb ...\n",
            "Unpacking libclass-c3-xs-perl (0.15-1build2) ...\n",
            "Selecting previously unselected package libclass-data-inheritable-perl.\n",
            "Preparing to unpack .../030-libclass-data-inheritable-perl_0.08-3_all.deb ...\n",
            "Unpacking libclass-data-inheritable-perl (0.08-3) ...\n",
            "Selecting previously unselected package libclass-method-modifiers-perl.\n",
            "Preparing to unpack .../031-libclass-method-modifiers-perl_2.13-1_all.deb ...\n",
            "Unpacking libclass-method-modifiers-perl (2.13-1) ...\n",
            "Selecting previously unselected package libclass-xsaccessor-perl.\n",
            "Preparing to unpack .../032-libclass-xsaccessor-perl_1.19-3build9_amd64.deb ...\n",
            "Unpacking libclass-xsaccessor-perl (1.19-3build9) ...\n",
            "Selecting previously unselected package libcommon-sense-perl:amd64.\n",
            "Preparing to unpack .../033-libcommon-sense-perl_3.75-2build1_amd64.deb ...\n",
            "Unpacking libcommon-sense-perl:amd64 (3.75-2build1) ...\n",
            "Selecting previously unselected package libparams-util-perl.\n",
            "Preparing to unpack .../034-libparams-util-perl_1.102-1build3_amd64.deb ...\n",
            "Unpacking libparams-util-perl (1.102-1build3) ...\n",
            "Selecting previously unselected package libsub-install-perl.\n",
            "Preparing to unpack .../035-libsub-install-perl_0.928-1.1_all.deb ...\n",
            "Unpacking libsub-install-perl (0.928-1.1) ...\n",
            "Selecting previously unselected package libdata-optlist-perl.\n",
            "Preparing to unpack .../036-libdata-optlist-perl_0.112-1_all.deb ...\n",
            "Unpacking libdata-optlist-perl (0.112-1) ...\n",
            "Selecting previously unselected package libpadwalker-perl.\n",
            "Preparing to unpack .../037-libpadwalker-perl_2.5-1build2_amd64.deb ...\n",
            "Unpacking libpadwalker-perl (2.5-1build2) ...\n",
            "Selecting previously unselected package libdevel-caller-perl.\n",
            "Preparing to unpack .../038-libdevel-caller-perl_2.06-2build4_amd64.deb ...\n",
            "Unpacking libdevel-caller-perl (2.06-2build4) ...\n",
            "Selecting previously unselected package libdevel-globaldestruction-perl.\n",
            "Preparing to unpack .../039-libdevel-globaldestruction-perl_0.14-1.1_all.deb ...\n",
            "Unpacking libdevel-globaldestruction-perl (0.14-1.1) ...\n",
            "Selecting previously unselected package libdevel-lexalias-perl.\n",
            "Preparing to unpack .../040-libdevel-lexalias-perl_0.05-2build4_amd64.deb ...\n",
            "Unpacking libdevel-lexalias-perl (0.05-2build4) ...\n",
            "Selecting previously unselected package libdevel-stacktrace-perl.\n",
            "Preparing to unpack .../041-libdevel-stacktrace-perl_2.0400-1_all.deb ...\n",
            "Unpacking libdevel-stacktrace-perl (2.0400-1) ...\n",
            "Selecting previously unselected package libdist-checkconflicts-perl.\n",
            "Preparing to unpack .../042-libdist-checkconflicts-perl_0.11-1.1_all.deb ...\n",
            "Unpacking libdist-checkconflicts-perl (0.11-1.1) ...\n",
            "Selecting previously unselected package libemail-date-format-perl.\n",
            "Preparing to unpack .../043-libemail-date-format-perl_1.005-1.1_all.deb ...\n",
            "Unpacking libemail-date-format-perl (1.005-1.1) ...\n",
            "Selecting previously unselected package libsub-exporter-perl.\n",
            "Preparing to unpack .../044-libsub-exporter-perl_0.988-1_all.deb ...\n",
            "Unpacking libsub-exporter-perl (0.988-1) ...\n",
            "Selecting previously unselected package libeval-closure-perl.\n",
            "Preparing to unpack .../045-libeval-closure-perl_0.14-1_all.deb ...\n",
            "Unpacking libeval-closure-perl (0.14-1) ...\n",
            "Selecting previously unselected package libexception-class-perl.\n",
            "Preparing to unpack .../046-libexception-class-perl_1.45-1_all.deb ...\n",
            "Unpacking libexception-class-perl (1.45-1) ...\n",
            "Selecting previously unselected package libfile-which-perl.\n",
            "Preparing to unpack .../047-libfile-which-perl_1.23-1_all.deb ...\n",
            "Unpacking libfile-which-perl (1.23-1) ...\n",
            "Selecting previously unselected package libfile-homedir-perl.\n",
            "Preparing to unpack .../048-libfile-homedir-perl_1.006-1_all.deb ...\n",
            "Unpacking libfile-homedir-perl (1.006-1) ...\n",
            "Selecting previously unselected package libfontenc1:amd64.\n",
            "Preparing to unpack .../049-libfontenc1_1%3a1.1.4-1build3_amd64.deb ...\n",
            "Unpacking libfontenc1:amd64 (1:1.1.4-1build3) ...\n",
            "Selecting previously unselected package perl-openssl-defaults:amd64.\n",
            "Preparing to unpack .../050-perl-openssl-defaults_5build2_amd64.deb ...\n",
            "Unpacking perl-openssl-defaults:amd64 (5build2) ...\n",
            "Selecting previously unselected package libnet-ssleay-perl:amd64.\n",
            "Preparing to unpack .../051-libnet-ssleay-perl_1.92-1build2_amd64.deb ...\n",
            "Unpacking libnet-ssleay-perl:amd64 (1.92-1build2) ...\n",
            "Selecting previously unselected package libio-socket-ssl-perl.\n",
            "Preparing to unpack .../052-libio-socket-ssl-perl_2.074-2_all.deb ...\n",
            "Unpacking libio-socket-ssl-perl (2.074-2) ...\n",
            "Selecting previously unselected package libjson-perl.\n",
            "Preparing to unpack .../053-libjson-perl_4.04000-1_all.deb ...\n",
            "Unpacking libjson-perl (4.04000-1) ...\n",
            "Selecting previously unselected package libstring-crc32-perl:amd64.\n",
            "Preparing to unpack .../054-libstring-crc32-perl_2.100-1build1_amd64.deb ...\n",
            "Unpacking libstring-crc32-perl:amd64 (2.100-1build1) ...\n",
            "Selecting previously unselected package libipc-shareable-perl.\n",
            "Preparing to unpack .../055-libipc-shareable-perl_1.06-2_all.deb ...\n",
            "Unpacking libipc-shareable-perl (1.06-2) ...\n",
            "Selecting previously unselected package libtypes-serialiser-perl.\n",
            "Preparing to unpack .../056-libtypes-serialiser-perl_1.01-1_all.deb ...\n",
            "Unpacking libtypes-serialiser-perl (1.01-1) ...\n",
            "Selecting previously unselected package libjson-xs-perl.\n",
            "Preparing to unpack .../057-libjson-xs-perl_4.030-1build3_amd64.deb ...\n",
            "Unpacking libjson-xs-perl (4.030-1build3) ...\n",
            "Selecting previously unselected package libpackage-stash-perl.\n",
            "Preparing to unpack .../058-libpackage-stash-perl_0.39-1_all.deb ...\n",
            "Unpacking libpackage-stash-perl (0.39-1) ...\n",
            "Selecting previously unselected package libsub-identify-perl.\n",
            "Preparing to unpack .../059-libsub-identify-perl_0.14-1build5_amd64.deb ...\n",
            "Unpacking libsub-identify-perl (0.14-1build5) ...\n",
            "Selecting previously unselected package libsub-name-perl.\n",
            "Preparing to unpack .../060-libsub-name-perl_0.26-1build3_amd64.deb ...\n",
            "Unpacking libsub-name-perl (0.26-1build3) ...\n",
            "Selecting previously unselected package libnamespace-clean-perl.\n",
            "Preparing to unpack .../061-libnamespace-clean-perl_0.27-1_all.deb ...\n",
            "Unpacking libnamespace-clean-perl (0.27-1) ...\n",
            "Selecting previously unselected package libnamespace-autoclean-perl.\n",
            "Preparing to unpack .../062-libnamespace-autoclean-perl_0.29-1_all.deb ...\n",
            "Unpacking libnamespace-autoclean-perl (0.29-1) ...\n",
            "Selecting previously unselected package libparams-validationcompiler-perl.\n",
            "Preparing to unpack .../063-libparams-validationcompiler-perl_0.30-1_all.deb ...\n",
            "Unpacking libparams-validationcompiler-perl (0.30-1) ...\n",
            "Selecting previously unselected package libmro-compat-perl.\n",
            "Preparing to unpack .../064-libmro-compat-perl_0.15-1_all.deb ...\n",
            "Unpacking libmro-compat-perl (0.15-1) ...\n",
            "Selecting previously unselected package librole-tiny-perl.\n",
            "Preparing to unpack .../065-librole-tiny-perl_2.002004-1_all.deb ...\n",
            "Unpacking librole-tiny-perl (2.002004-1) ...\n",
            "Selecting previously unselected package libsub-quote-perl.\n",
            "Preparing to unpack .../066-libsub-quote-perl_2.006006-1_all.deb ...\n",
            "Unpacking libsub-quote-perl (2.006006-1) ...\n",
            "Selecting previously unselected package libxstring-perl.\n",
            "Preparing to unpack .../067-libxstring-perl_0.005-1build2_amd64.deb ...\n",
            "Unpacking libxstring-perl (0.005-1build2) ...\n",
            "Selecting previously unselected package libspecio-perl.\n",
            "Preparing to unpack .../068-libspecio-perl_0.47-1_all.deb ...\n",
            "Unpacking libspecio-perl (0.47-1) ...\n",
            "Selecting previously unselected package liblog-dispatch-perl.\n",
            "Preparing to unpack .../069-liblog-dispatch-perl_2.70-1_all.deb ...\n",
            "Unpacking liblog-dispatch-perl (2.70-1) ...\n",
            "Selecting previously unselected package liblog-log4perl-perl.\n",
            "Preparing to unpack .../070-liblog-log4perl-perl_1.54-1_all.deb ...\n",
            "Unpacking liblog-log4perl-perl (1.54-1) ...\n",
            "Selecting previously unselected package libsys-hostname-long-perl.\n",
            "Preparing to unpack .../071-libsys-hostname-long-perl_1.5-2_all.deb ...\n",
            "Unpacking libsys-hostname-long-perl (1.5-2) ...\n",
            "Selecting previously unselected package libmail-sendmail-perl.\n",
            "Preparing to unpack .../072-libmail-sendmail-perl_0.80-1.1_all.deb ...\n",
            "Unpacking libmail-sendmail-perl (0.80-1.1) ...\n",
            "Selecting previously unselected package libnet-smtp-ssl-perl.\n",
            "Preparing to unpack .../073-libnet-smtp-ssl-perl_1.04-1_all.deb ...\n",
            "Unpacking libnet-smtp-ssl-perl (1.04-1) ...\n",
            "Selecting previously unselected package libmailtools-perl.\n",
            "Preparing to unpack .../074-libmailtools-perl_2.21-1_all.deb ...\n",
            "Unpacking libmailtools-perl (2.21-1) ...\n",
            "Selecting previously unselected package libmime-charset-perl.\n",
            "Preparing to unpack .../075-libmime-charset-perl_1.012.2-1_all.deb ...\n",
            "Unpacking libmime-charset-perl (1.012.2-1) ...\n",
            "Selecting previously unselected package libmime-lite-perl.\n",
            "Preparing to unpack .../076-libmime-lite-perl_3.033-1_all.deb ...\n",
            "Unpacking libmime-lite-perl (3.033-1) ...\n",
            "Selecting previously unselected package libmime-types-perl.\n",
            "Preparing to unpack .../077-libmime-types-perl_2.22-1_all.deb ...\n",
            "Unpacking libmime-types-perl (2.22-1) ...\n",
            "Selecting previously unselected package libpackage-stash-xs-perl.\n",
            "Preparing to unpack .../078-libpackage-stash-xs-perl_0.29-1build5_amd64.deb ...\n",
            "Unpacking libpackage-stash-xs-perl (0.29-1build5) ...\n",
            "Selecting previously unselected package libptexenc1:amd64.\n",
            "Preparing to unpack .../079-libptexenc1_2021.20210626.59705-1ubuntu0.1_amd64.deb ...\n",
            "Unpacking libptexenc1:amd64 (2021.20210626.59705-1ubuntu0.1) ...\n",
            "Selecting previously unselected package libreadonly-perl.\n",
            "Preparing to unpack .../080-libreadonly-perl_2.050-3_all.deb ...\n",
            "Unpacking libreadonly-perl (2.050-3) ...\n",
            "Selecting previously unselected package libref-util-perl.\n",
            "Preparing to unpack .../081-libref-util-perl_0.204-1_all.deb ...\n",
            "Unpacking libref-util-perl (0.204-1) ...\n",
            "Selecting previously unselected package libref-util-xs-perl.\n",
            "Preparing to unpack .../082-libref-util-xs-perl_0.117-1build5_amd64.deb ...\n",
            "Unpacking libref-util-xs-perl (0.117-1build5) ...\n",
            "Selecting previously unselected package rubygems-integration.\n",
            "Preparing to unpack .../083-rubygems-integration_1.18_all.deb ...\n",
            "Unpacking rubygems-integration (1.18) ...\n",
            "Selecting previously unselected package ruby3.0.\n",
            "Preparing to unpack .../084-ruby3.0_3.0.2-7ubuntu2.4_amd64.deb ...\n",
            "Unpacking ruby3.0 (3.0.2-7ubuntu2.4) ...\n",
            "Selecting previously unselected package ruby-rubygems.\n",
            "Preparing to unpack .../085-ruby-rubygems_3.3.5-2_all.deb ...\n",
            "Unpacking ruby-rubygems (3.3.5-2) ...\n",
            "Selecting previously unselected package ruby.\n",
            "Preparing to unpack .../086-ruby_1%3a3.0~exp1_amd64.deb ...\n",
            "Unpacking ruby (1:3.0~exp1) ...\n",
            "Selecting previously unselected package rake.\n",
            "Preparing to unpack .../087-rake_13.0.6-2_all.deb ...\n",
            "Unpacking rake (13.0.6-2) ...\n",
            "Selecting previously unselected package ruby-net-telnet.\n",
            "Preparing to unpack .../088-ruby-net-telnet_0.1.1-2_all.deb ...\n",
            "Unpacking ruby-net-telnet (0.1.1-2) ...\n",
            "Selecting previously unselected package ruby-webrick.\n",
            "Preparing to unpack .../089-ruby-webrick_1.7.0-3_all.deb ...\n",
            "Unpacking ruby-webrick (1.7.0-3) ...\n",
            "Selecting previously unselected package ruby-xmlrpc.\n",
            "Preparing to unpack .../090-ruby-xmlrpc_0.3.2-1ubuntu0.1_all.deb ...\n",
            "Unpacking ruby-xmlrpc (0.3.2-1ubuntu0.1) ...\n",
            "Selecting previously unselected package libruby3.0:amd64.\n",
            "Preparing to unpack .../091-libruby3.0_3.0.2-7ubuntu2.4_amd64.deb ...\n",
            "Unpacking libruby3.0:amd64 (3.0.2-7ubuntu2.4) ...\n",
            "Selecting previously unselected package libsombok3:amd64.\n",
            "Preparing to unpack .../092-libsombok3_2.4.0-2_amd64.deb ...\n",
            "Unpacking libsombok3:amd64 (2.4.0-2) ...\n",
            "Selecting previously unselected package libsynctex2:amd64.\n",
            "Preparing to unpack .../093-libsynctex2_2021.20210626.59705-1ubuntu0.1_amd64.deb ...\n",
            "Unpacking libsynctex2:amd64 (2021.20210626.59705-1ubuntu0.1) ...\n",
            "Selecting previously unselected package libteckit0:amd64.\n",
            "Preparing to unpack .../094-libteckit0_2.5.11+ds1-1_amd64.deb ...\n",
            "Unpacking libteckit0:amd64 (2.5.11+ds1-1) ...\n",
            "Selecting previously unselected package libtexlua53:amd64.\n",
            "Preparing to unpack .../095-libtexlua53_2021.20210626.59705-1ubuntu0.1_amd64.deb ...\n",
            "Unpacking libtexlua53:amd64 (2021.20210626.59705-1ubuntu0.1) ...\n",
            "Selecting previously unselected package libtexluajit2:amd64.\n",
            "Preparing to unpack .../096-libtexluajit2_2021.20210626.59705-1ubuntu0.1_amd64.deb ...\n",
            "Unpacking libtexluajit2:amd64 (2021.20210626.59705-1ubuntu0.1) ...\n",
            "Selecting previously unselected package libunicode-linebreak-perl.\n",
            "Preparing to unpack .../097-libunicode-linebreak-perl_0.0.20190101-1build3_amd64.deb ...\n",
            "Unpacking libunicode-linebreak-perl (0.0.20190101-1build3) ...\n",
            "Selecting previously unselected package liburi-perl.\n",
            "Preparing to unpack .../098-liburi-perl_5.10-1_all.deb ...\n",
            "Unpacking liburi-perl (5.10-1) ...\n",
            "Selecting previously unselected package libyaml-tiny-perl.\n",
            "Preparing to unpack .../099-libyaml-tiny-perl_1.73-1_all.deb ...\n",
            "Unpacking libyaml-tiny-perl (1.73-1) ...\n",
            "Selecting previously unselected package libzzip-0-13:amd64.\n",
            "Preparing to unpack .../100-libzzip-0-13_0.13.72+dfsg.1-1.1_amd64.deb ...\n",
            "Unpacking libzzip-0-13:amd64 (0.13.72+dfsg.1-1.1) ...\n",
            "Selecting previously unselected package xfonts-encodings.\n",
            "Preparing to unpack .../101-xfonts-encodings_1%3a1.0.5-0ubuntu2_all.deb ...\n",
            "Unpacking xfonts-encodings (1:1.0.5-0ubuntu2) ...\n",
            "Selecting previously unselected package xfonts-utils.\n",
            "Preparing to unpack .../102-xfonts-utils_1%3a7.7+6build2_amd64.deb ...\n",
            "Unpacking xfonts-utils (1:7.7+6build2) ...\n",
            "Selecting previously unselected package lmodern.\n",
            "Preparing to unpack .../103-lmodern_2.004.5-6.1_all.deb ...\n",
            "Unpacking lmodern (2.004.5-6.1) ...\n",
            "Selecting previously unselected package t1utils.\n",
            "Preparing to unpack .../104-t1utils_1.41-4build2_amd64.deb ...\n",
            "Unpacking t1utils (1.41-4build2) ...\n",
            "Selecting previously unselected package texlive-binaries.\n",
            "Preparing to unpack .../105-texlive-binaries_2021.20210626.59705-1ubuntu0.1_amd64.deb ...\n",
            "Unpacking texlive-binaries (2021.20210626.59705-1ubuntu0.1) ...\n",
            "Selecting previously unselected package texlive-base.\n",
            "Preparing to unpack .../106-texlive-base_2021.20220204-1_all.deb ...\n",
            "Unpacking texlive-base (2021.20220204-1) ...\n",
            "Selecting previously unselected package texlive-latex-base.\n",
            "Preparing to unpack .../107-texlive-latex-base_2021.20220204-1_all.deb ...\n",
            "Unpacking texlive-latex-base (2021.20220204-1) ...\n",
            "Selecting previously unselected package texlive-luatex.\n",
            "Preparing to unpack .../108-texlive-luatex_2021.20220204-1_all.deb ...\n",
            "Unpacking texlive-luatex (2021.20220204-1) ...\n",
            "Selecting previously unselected package texlive-plain-generic.\n",
            "Preparing to unpack .../109-texlive-plain-generic_2021.20220204-1_all.deb ...\n",
            "Unpacking texlive-plain-generic (2021.20220204-1) ...\n",
            "Selecting previously unselected package texlive-extra-utils.\n",
            "Preparing to unpack .../110-texlive-extra-utils_2021.20220204-1_all.deb ...\n",
            "Unpacking texlive-extra-utils (2021.20220204-1) ...\n",
            "Selecting previously unselected package texlive-latex-recommended.\n",
            "Preparing to unpack .../111-texlive-latex-recommended_2021.20220204-1_all.deb ...\n",
            "Unpacking texlive-latex-recommended (2021.20220204-1) ...\n",
            "Selecting previously unselected package libauthen-sasl-perl.\n",
            "Preparing to unpack .../112-libauthen-sasl-perl_2.1600-1.1_all.deb ...\n",
            "Unpacking libauthen-sasl-perl (2.1600-1.1) ...\n",
            "Setting up libfile-which-perl (1.23-1) ...\n",
            "Setting up fonts-lato (2.0-2.1) ...\n",
            "Setting up fonts-noto-mono (20201225-1build1) ...\n",
            "Setting up libwoff1:amd64 (1.0.2-1build4) ...\n",
            "Setting up libdynaloader-functions-perl (0.003-1.1) ...\n",
            "Setting up libclass-method-modifiers-perl (2.13-1) ...\n",
            "Setting up libref-util-xs-perl (0.117-1build5) ...\n",
            "Setting up libmime-types-perl (2.22-1) ...\n",
            "Setting up libsombok3:amd64 (2.4.0-2) ...\n",
            "Setting up libtexlua53:amd64 (2021.20210626.59705-1ubuntu0.1) ...\n",
            "Setting up libsub-identify-perl (0.14-1build5) ...\n",
            "Setting up libijs-0.35:amd64 (0.35-15build2) ...\n",
            "Setting up libauthen-sasl-perl (2.1600-1.1) ...\n",
            "Setting up libtexluajit2:amd64 (2021.20210626.59705-1ubuntu0.1) ...\n",
            "Setting up libtry-tiny-perl (0.31-1) ...\n",
            "Setting up perl-openssl-defaults:amd64 (5build2) ...\n",
            "Setting up libcommon-sense-perl:amd64 (3.75-2build1) ...\n",
            "Setting up libpadwalker-perl (2.5-1build2) ...\n",
            "Setting up rubygems-integration (1.18) ...\n",
            "Setting up libzzip-0-13:amd64 (0.13.72+dfsg.1-1.1) ...\n",
            "Setting up fonts-urw-base35 (20200910-1) ...\n",
            "Setting up libxstring-perl (0.005-1build2) ...\n",
            "Setting up libyaml-tiny-perl (1.73-1) ...\n",
            "Setting up libclass-c3-xs-perl (0.15-1build2) ...\n",
            "Setting up libdevel-caller-perl (2.06-2build4) ...\n",
            "Setting up libsub-install-perl (0.928-1.1) ...\n",
            "Setting up poppler-data (0.4.11-1) ...\n",
            "Setting up tex-common (6.17) ...\n",
            "debconf: unable to initialize frontend: Dialog\n",
            "debconf: (No usable dialog-like program is installed, so the dialog based frontend cannot be used. at /usr/share/perl5/Debconf/FrontEnd/Dialog.pm line 78.)\n",
            "debconf: falling back to frontend: Readline\n",
            "update-language: texlive-base not installed and configured, doing nothing!\n",
            "Setting up libreadonly-perl (2.050-3) ...\n",
            "Setting up libdevel-lexalias-perl (0.05-2build4) ...\n",
            "Setting up libfontenc1:amd64 (1:1.1.4-1build3) ...\n",
            "Setting up libpackage-stash-xs-perl (0.29-1build5) ...\n",
            "Setting up libclass-data-inheritable-perl (0.08-3) ...\n",
            "Setting up libalgorithm-c3-perl (0.11-1) ...\n",
            "Setting up liblog-log4perl-perl (1.54-1) ...\n",
            "Setting up libstring-crc32-perl:amd64 (2.100-1build1) ...\n",
            "Setting up libref-util-perl (0.204-1) ...\n",
            "Setting up libjbig2dec0:amd64 (0.19-3build2) ...\n",
            "Setting up libteckit0:amd64 (2.5.11+ds1-1) ...\n",
            "Setting up ruby-net-telnet (0.1.1-2) ...\n",
            "Setting up xfonts-encodings (1:1.0.5-0ubuntu2) ...\n",
            "Setting up t1utils (1.41-4build2) ...\n",
            "Setting up libemail-date-format-perl (1.005-1.1) ...\n",
            "Setting up libvariable-magic-perl (0.62-1build5) ...\n",
            "Setting up libidn12:amd64 (1.38-4ubuntu1) ...\n",
            "Setting up libb-hooks-op-check-perl (0.22-1build5) ...\n",
            "Setting up libparams-util-perl (1.102-1build3) ...\n",
            "Setting up libkpathsea6:amd64 (2021.20210626.59705-1ubuntu0.1) ...\n",
            "Setting up libsub-exporter-progressive-perl (0.001013-1) ...\n",
            "Setting up ruby-webrick (1.7.0-3) ...\n",
            "Setting up libsub-name-perl (0.26-1build3) ...\n",
            "Setting up libtypes-serialiser-perl (1.01-1) ...\n",
            "Setting up libmime-charset-perl (1.012.2-1) ...\n",
            "Setting up libjson-perl (4.04000-1) ...\n",
            "Setting up librole-tiny-perl (2.002004-1) ...\n",
            "Setting up fonts-lmodern (2.004.5-6.1) ...\n",
            "Setting up libdevel-globaldestruction-perl (0.14-1.1) ...\n",
            "Setting up netbase (6.3) ...\n",
            "Setting up libsub-quote-perl (2.006006-1) ...\n",
            "Setting up libdevel-stacktrace-perl (2.0400-1) ...\n",
            "Setting up libclass-xsaccessor-perl (1.19-3build9) ...\n",
            "Setting up fonts-droid-fallback (1:6.0.1r16-1.1build1) ...\n",
            "Setting up libfile-homedir-perl (1.006-1) ...\n",
            "Setting up libsys-hostname-long-perl (1.5-2) ...\n",
            "Setting up ruby-xmlrpc (0.3.2-1ubuntu0.1) ...\n",
            "Setting up liburi-perl (5.10-1) ...\n",
            "Setting up libsynctex2:amd64 (2021.20210626.59705-1ubuntu0.1) ...\n",
            "Setting up libnet-ssleay-perl:amd64 (1.92-1build2) ...\n",
            "Setting up libgs9-common (9.55.0~dfsg1-0ubuntu5.4) ...\n",
            "Setting up libjson-xs-perl (4.030-1build3) ...\n",
            "Setting up libgs9:amd64 (9.55.0~dfsg1-0ubuntu5.4) ...\n",
            "Setting up dvisvgm (2.13.1-1) ...\n",
            "Setting up libipc-shareable-perl (1.06-2) ...\n",
            "Setting up libexception-class-perl (1.45-1) ...\n",
            "Setting up libclass-c3-perl (0.35-1) ...\n",
            "Setting up ghostscript (9.55.0~dfsg1-0ubuntu5.4) ...\n",
            "Setting up xfonts-utils (1:7.7+6build2) ...\n",
            "Setting up libdevel-callchecker-perl (0.008-1ubuntu4) ...\n",
            "Setting up libmail-sendmail-perl (0.80-1.1) ...\n",
            "Setting up libptexenc1:amd64 (2021.20210626.59705-1ubuntu0.1) ...\n",
            "Setting up libunicode-linebreak-perl (0.0.20190101-1build3) ...\n",
            "Setting up libdata-optlist-perl (0.112-1) ...\n",
            "Setting up texlive-binaries (2021.20210626.59705-1ubuntu0.1) ...\n",
            "update-alternatives: using /usr/bin/xdvi-xaw to provide /usr/bin/xdvi.bin (xdvi.bin) in auto mode\n",
            "update-alternatives: using /usr/bin/bibtex.original to provide /usr/bin/bibtex (bibtex) in auto mode\n",
            "Setting up lmodern (2.004.5-6.1) ...\n",
            "Setting up libmro-compat-perl (0.15-1) ...\n",
            "Setting up texlive-base (2021.20220204-1) ...\n",
            "/usr/bin/ucfr\n",
            "/usr/bin/ucfr\n",
            "/usr/bin/ucfr\n",
            "/usr/bin/ucfr\n",
            "mktexlsr: Updating /var/lib/texmf/ls-R-TEXLIVEDIST... \n",
            "mktexlsr: Updating /var/lib/texmf/ls-R-TEXMFMAIN... \n",
            "mktexlsr: Updating /var/lib/texmf/ls-R... \n",
            "mktexlsr: Done.\n",
            "tl-paper: setting paper size for dvips to a4: /var/lib/texmf/dvips/config/config-paper.ps\n",
            "tl-paper: setting paper size for dvipdfmx to a4: /var/lib/texmf/dvipdfmx/dvipdfmx-paper.cfg\n",
            "tl-paper: setting paper size for xdvi to a4: /var/lib/texmf/xdvi/XDvi-paper\n",
            "tl-paper: setting paper size for pdftex to a4: /var/lib/texmf/tex/generic/tex-ini-files/pdftexconfig.tex\n",
            "debconf: unable to initialize frontend: Dialog\n",
            "debconf: (No usable dialog-like program is installed, so the dialog based frontend cannot be used. at /usr/share/perl5/Debconf/FrontEnd/Dialog.pm line 78.)\n",
            "debconf: falling back to frontend: Readline\n",
            "Setting up libio-socket-ssl-perl (2.074-2) ...\n",
            "Setting up libsub-exporter-perl (0.988-1) ...\n",
            "Setting up libeval-closure-perl (0.14-1) ...\n",
            "Setting up libparams-validationcompiler-perl (0.30-1) ...\n",
            "Setting up texlive-luatex (2021.20220204-1) ...\n",
            "Setting up libparams-classify-perl (0.015-1build5) ...\n",
            "Setting up texlive-plain-generic (2021.20220204-1) ...\n",
            "Setting up libnet-smtp-ssl-perl (1.04-1) ...\n",
            "Setting up texlive-latex-base (2021.20220204-1) ...\n",
            "Setting up libmodule-runtime-perl (0.016-1) ...\n",
            "Setting up libmailtools-perl (2.21-1) ...\n",
            "Setting up texlive-extra-utils (2021.20220204-1) ...\n",
            "Setting up texlive-latex-recommended (2021.20220204-1) ...\n",
            "Setting up libdist-checkconflicts-perl (0.11-1.1) ...\n",
            "Setting up libmime-lite-perl (3.033-1) ...\n",
            "Setting up libmodule-implementation-perl (0.09-1.1) ...\n",
            "Setting up libpackage-stash-perl (0.39-1) ...\n",
            "Setting up libspecio-perl (0.47-1) ...\n",
            "Setting up libb-hooks-endofscope-perl (0.25-1) ...\n",
            "Setting up libnamespace-clean-perl (0.27-1) ...\n",
            "Setting up libnamespace-autoclean-perl (0.29-1) ...\n",
            "Setting up liblog-dispatch-perl (2.70-1) ...\n",
            "Setting up rake (13.0.6-2) ...\n",
            "Setting up libruby3.0:amd64 (3.0.2-7ubuntu2.4) ...\n",
            "Setting up ruby3.0 (3.0.2-7ubuntu2.4) ...\n",
            "Setting up ruby (1:3.0~exp1) ...\n",
            "Setting up ruby-rubygems (3.3.5-2) ...\n",
            "Processing triggers for man-db (2.10.2-1) ...\n",
            "Processing triggers for fontconfig (2.13.1-4.2ubuntu5) ...\n",
            "Processing triggers for libc-bin (2.35-0ubuntu3.4) ...\n",
            "/sbin/ldconfig.real: /usr/local/lib/libtbbmalloc_proxy.so.2 is not a symbolic link\n",
            "\n",
            "/sbin/ldconfig.real: /usr/local/lib/libtbbmalloc.so.2 is not a symbolic link\n",
            "\n",
            "/sbin/ldconfig.real: /usr/local/lib/libtbbbind_2_0.so.3 is not a symbolic link\n",
            "\n",
            "/sbin/ldconfig.real: /usr/local/lib/libtbbbind_2_5.so.3 is not a symbolic link\n",
            "\n",
            "/sbin/ldconfig.real: /usr/local/lib/libtbbbind.so.3 is not a symbolic link\n",
            "\n",
            "/sbin/ldconfig.real: /usr/local/lib/libtbb.so.12 is not a symbolic link\n",
            "\n",
            "Processing triggers for tex-common (6.17) ...\n",
            "debconf: unable to initialize frontend: Dialog\n",
            "debconf: (No usable dialog-like program is installed, so the dialog based frontend cannot be used. at /usr/share/perl5/Debconf/FrontEnd/Dialog.pm line 78.)\n",
            "debconf: falling back to frontend: Readline\n",
            "Running updmap-sys. This may take some time... done.\n",
            "Running mktexlsr /var/lib/texmf ... done.\n",
            "Building format(s) --all.\n",
            "\tThis may take some time... done.\n"
          ]
        }
      ]
    },
    {
      "cell_type": "code",
      "source": [
        "!sudo pip install pdftotext #el comando de instalación es diferente aquí porque viene de otro lenguaje"
      ],
      "metadata": {
        "id": "HJrXSuRTguTx",
        "colab": {
          "base_uri": "https://localhost:8080/"
        },
        "outputId": "6b0463a2-ed6b-4ce7-8891-417bdd6cd43c"
      },
      "execution_count": null,
      "outputs": [
        {
          "output_type": "stream",
          "name": "stdout",
          "text": [
            "Collecting pdftotext\n",
            "  Downloading pdftotext-2.2.2.tar.gz (113 kB)\n",
            "\u001b[?25l     \u001b[90m━━━━━━━━━━━━━━━━━━━━━━━━━━━━━━━━━━━━━━━━\u001b[0m \u001b[32m0.0/113.9 kB\u001b[0m \u001b[31m?\u001b[0m eta \u001b[36m-:--:--\u001b[0m\r\u001b[2K     \u001b[91m━━━━━━━━━━━━━━━━━━━━━━━━━━━━━━━━━━━━━━\u001b[0m\u001b[91m╸\u001b[0m \u001b[32m112.6/113.9 kB\u001b[0m \u001b[31m3.2 MB/s\u001b[0m eta \u001b[36m0:00:01\u001b[0m\r\u001b[2K     \u001b[90m━━━━━━━━━━━━━━━━━━━━━━━━━━━━━━━━━━━━━━━\u001b[0m \u001b[32m113.9/113.9 kB\u001b[0m \u001b[31m2.6 MB/s\u001b[0m eta \u001b[36m0:00:00\u001b[0m\n",
            "\u001b[?25h  Preparing metadata (setup.py) ... \u001b[?25l\u001b[?25hdone\n",
            "Building wheels for collected packages: pdftotext\n",
            "  Building wheel for pdftotext (setup.py) ... \u001b[?25l\u001b[?25hdone\n",
            "  Created wheel for pdftotext: filename=pdftotext-2.2.2-cp310-cp310-linux_x86_64.whl size=61850 sha256=3a296cffd7a78e2f4d5cb3b05c30c7f5f4c019c6e8f3ce33cc6db3a61701f0c2\n",
            "  Stored in directory: /root/.cache/pip/wheels/c8/68/c6/82a8c2046e1a8f9051017319dc007f43ef3a6edc53149d1f4e\n",
            "Successfully built pdftotext\n",
            "Installing collected packages: pdftotext\n",
            "Successfully installed pdftotext-2.2.2\n"
          ]
        }
      ]
    },
    {
      "cell_type": "code",
      "source": [
        "!sudo apt install poppler-utils"
      ],
      "metadata": {
        "id": "G2vowddVrSZA",
        "colab": {
          "base_uri": "https://localhost:8080/"
        },
        "outputId": "b344ac1c-14d2-4570-c196-0ad5422e023d"
      },
      "execution_count": null,
      "outputs": [
        {
          "output_type": "stream",
          "name": "stdout",
          "text": [
            "Reading package lists... Done\n",
            "Building dependency tree... Done\n",
            "Reading state information... Done\n",
            "The following packages were automatically installed and are no longer required:\n",
            "  linux-headers-5.15.0-84 linux-headers-5.15.0-84-generic\n",
            "Use 'sudo apt autoremove' to remove them.\n",
            "The following NEW packages will be installed:\n",
            "  poppler-utils\n",
            "0 upgraded, 1 newly installed, 0 to remove and 4 not upgraded.\n",
            "Need to get 186 kB of archives.\n",
            "After this operation, 696 kB of additional disk space will be used.\n",
            "Get:1 http://archive.ubuntu.com/ubuntu jammy-updates/main amd64 poppler-utils amd64 22.02.0-2ubuntu0.2 [186 kB]\n",
            "Fetched 186 kB in 1s (306 kB/s)\n",
            "debconf: unable to initialize frontend: Dialog\n",
            "debconf: (No usable dialog-like program is installed, so the dialog based frontend cannot be used. at /usr/share/perl5/Debconf/FrontEnd/Dialog.pm line 78, <> line 1.)\n",
            "debconf: falling back to frontend: Readline\n",
            "debconf: unable to initialize frontend: Readline\n",
            "debconf: (This frontend requires a controlling tty.)\n",
            "debconf: falling back to frontend: Teletype\n",
            "dpkg-preconfigure: unable to re-open stdin: \n",
            "Selecting previously unselected package poppler-utils.\n",
            "(Reading database ... 175428 files and directories currently installed.)\n",
            "Preparing to unpack .../poppler-utils_22.02.0-2ubuntu0.2_amd64.deb ...\n",
            "Unpacking poppler-utils (22.02.0-2ubuntu0.2) ...\n",
            "Setting up poppler-utils (22.02.0-2ubuntu0.2) ...\n",
            "Processing triggers for man-db (2.10.2-1) ...\n"
          ]
        }
      ]
    },
    {
      "cell_type": "markdown",
      "source": [
        "## 2.2 Prueba de que las librerías se instalaron correctamente\n",
        "\n",
        "Vamos a descargar un documento científico de un repositorio alojado en este sitio de la [UNAM](https://www.revistaingenieria.unam.mx/es/numeros-anteriores.php).\n",
        "\n",
        "En este proceso, además de verificar que las librerías funcionan bien, hay que hacer un trabajo de reconocimiento de patrones para automatizar la descarga de información."
      ],
      "metadata": {
        "id": "RJAd67QrhXG7"
      }
    },
    {
      "cell_type": "code",
      "source": [
        "!wget https://www.revistaingenieria.unam.mx/numeros/2022/v23n1-01.pdf #wget URL para descargar el documento"
      ],
      "metadata": {
        "id": "crfnqXlYhclb",
        "colab": {
          "base_uri": "https://localhost:8080/"
        },
        "outputId": "d35518ad-39e4-4594-ea98-55a47dcf8194"
      },
      "execution_count": null,
      "outputs": [
        {
          "output_type": "stream",
          "name": "stdout",
          "text": [
            "--2023-10-04 18:17:21--  https://www.revistaingenieria.unam.mx/numeros/2022/v23n1-01.pdf\n",
            "Resolving www.revistaingenieria.unam.mx (www.revistaingenieria.unam.mx)... 132.248.54.220\n",
            "Connecting to www.revistaingenieria.unam.mx (www.revistaingenieria.unam.mx)|132.248.54.220|:443... connected.\n",
            "HTTP request sent, awaiting response... 200 OK\n",
            "Length: 1999316 (1.9M) [application/pdf]\n",
            "Saving to: ‘v23n1-01.pdf’\n",
            "\n",
            "v23n1-01.pdf        100%[===================>]   1.91M  4.92MB/s    in 0.4s    \n",
            "\n",
            "2023-10-04 18:17:22 (4.92 MB/s) - ‘v23n1-01.pdf’ saved [1999316/1999316]\n",
            "\n"
          ]
        }
      ]
    },
    {
      "cell_type": "code",
      "source": [
        "ls"
      ],
      "metadata": {
        "id": "Ruv7pF-QhjY4",
        "colab": {
          "base_uri": "https://localhost:8080/"
        },
        "outputId": "89bf0973-1a92-4a2b-e7e8-7c974626e6a0"
      },
      "execution_count": null,
      "outputs": [
        {
          "output_type": "stream",
          "name": "stdout",
          "text": [
            "v23n1-01.pdf\n"
          ]
        }
      ]
    },
    {
      "cell_type": "markdown",
      "source": [
        "## 2.3 El reconicimiento de patrones\n",
        "\n",
        "Los documentos alojados en el sitio tienen una estructura que nos permite hacer un proceso que tienda hacia la automatización. Veamos:\n",
        "\n",
        "https://www.revistaingenieria.unam.mx/numeros/2022/v23n1-01.pdf\n",
        "\n",
        "https://www.revistaingenieria.unam.mx/numeros/2022/v23n1-02.pdf\n",
        "\n",
        "https://www.revistaingenieria.unam.mx/numeros/2022/v23n1-07.pdf\n",
        "\n",
        "Mediante la exploración de URLs se puede apreciar que el patrón es recurrente y que podemos hacer inferencias acerca de cómo están registrados los números de otros años. Hágamos una prueba:\n",
        "\n",
        "1. Modifiquen el año en la URL y vean si se descarga algún documento."
      ],
      "metadata": {
        "id": "8WLG9UDJiqxE"
      }
    },
    {
      "cell_type": "code",
      "source": [
        "!wget https://www.revistaingenieria.unam.mx/numeros/2018/v23n1-01.pdf"
      ],
      "metadata": {
        "id": "aEioidgyhsSt",
        "colab": {
          "base_uri": "https://localhost:8080/"
        },
        "outputId": "f356e4e4-be0c-4a73-c916-a735dabc0829"
      },
      "execution_count": null,
      "outputs": [
        {
          "output_type": "stream",
          "name": "stdout",
          "text": [
            "--2023-10-04 18:17:22--  https://www.revistaingenieria.unam.mx/numeros/2018/v23n1-01.pdf\n",
            "Resolving www.revistaingenieria.unam.mx (www.revistaingenieria.unam.mx)... 132.248.54.220\n",
            "Connecting to www.revistaingenieria.unam.mx (www.revistaingenieria.unam.mx)|132.248.54.220|:443... connected.\n",
            "HTTP request sent, awaiting response... 404 Not Found\n",
            "2023-10-04 18:17:22 ERROR 404: Not Found.\n",
            "\n"
          ]
        }
      ]
    },
    {
      "cell_type": "markdown",
      "source": [
        "No se descargó nada. Eso implica que el patrón no funcionó o que hay que adecuarlo.\n",
        "\n",
        "Si entramos a la página, veremos que cometimos un error: modificamos el año, pero nos faltó modificar el volumen.\n",
        "\n",
        "https://www.revistaingenieria.unam.mx/numeros/2018/v23n1-01.pdf\n",
        "\n",
        "https://www.revistaingenieria.unam.mx/numeros/2018/v19n1-01.pdf\n",
        "\n",
        "1. Hagan la prueba con el patrón modificado e iteren sobre el nuevo patrón para descargar más números del año 2018."
      ],
      "metadata": {
        "id": "vrfJLBiZkGNZ"
      }
    },
    {
      "cell_type": "code",
      "source": [
        "!wget https://www.revistaingenieria.unam.mx/numeros/2018/v19n1-01.pdf"
      ],
      "metadata": {
        "id": "QZlRIMB5kDh9",
        "colab": {
          "base_uri": "https://localhost:8080/"
        },
        "outputId": "93505dbe-7bdc-45b5-b0a1-e98c915c43bb"
      },
      "execution_count": null,
      "outputs": [
        {
          "output_type": "stream",
          "name": "stdout",
          "text": [
            "--2023-10-04 18:17:22--  https://www.revistaingenieria.unam.mx/numeros/2018/v19n1-01.pdf\n",
            "Resolving www.revistaingenieria.unam.mx (www.revistaingenieria.unam.mx)... 132.248.54.220\n",
            "Connecting to www.revistaingenieria.unam.mx (www.revistaingenieria.unam.mx)|132.248.54.220|:443... connected.\n",
            "HTTP request sent, awaiting response... 200 OK\n",
            "Length: 798631 (780K) [application/pdf]\n",
            "Saving to: ‘v19n1-01.pdf’\n",
            "\n",
            "v19n1-01.pdf        100%[===================>] 779.91K  2.00MB/s    in 0.4s    \n",
            "\n",
            "2023-10-04 18:17:23 (2.00 MB/s) - ‘v19n1-01.pdf’ saved [798631/798631]\n",
            "\n"
          ]
        }
      ]
    },
    {
      "cell_type": "code",
      "source": [
        "!wget https://www.revistaingenieria.unam.mx/numeros/2018/v19n1-01.pdf\n",
        "!wget https://www.revistaingenieria.unam.mx/numeros/2018/v19n1-02.pdf\n",
        "!wget https://www.revistaingenieria.unam.mx/numeros/2018/v19n1-03.pdf\n",
        "!wget https://www.revistaingenieria.unam.mx/numeros/2018/v19n1-04.pdf\n",
        "!wget https://www.revistaingenieria.unam.mx/numeros/2018/v19n1-05.pdf\n",
        "!wget https://www.revistaingenieria.unam.mx/numeros/2018/v19n1-06.pdf\n",
        "!wget https://www.revistaingenieria.unam.mx/numeros/2018/v19n1-07.pdf\n",
        "!wget https://www.revistaingenieria.unam.mx/numeros/2018/v19n1-08.pdf\n",
        "!wget https://www.revistaingenieria.unam.mx/numeros/2018/v19n1-09.pdf\n",
        "!wget https://www.revistaingenieria.unam.mx/numeros/2018/v19n1-10.pdf\n",
        "!wget https://www.revistaingenieria.unam.mx/numeros/2018/v19n2-01.pdf\n",
        "!wget https://www.revistaingenieria.unam.mx/numeros/2018/v19n2-02.pdf\n",
        "!wget https://www.revistaingenieria.unam.mx/numeros/2018/v19n2-03.pdf"
      ],
      "metadata": {
        "id": "xyy0olvQlL03",
        "colab": {
          "base_uri": "https://localhost:8080/"
        },
        "outputId": "59e51363-ff9d-45b9-b6a6-6326428dac85"
      },
      "execution_count": null,
      "outputs": [
        {
          "output_type": "stream",
          "name": "stdout",
          "text": [
            "--2023-10-04 18:17:23--  https://www.revistaingenieria.unam.mx/numeros/2018/v19n1-01.pdf\n",
            "Resolving www.revistaingenieria.unam.mx (www.revistaingenieria.unam.mx)... 132.248.54.220\n",
            "Connecting to www.revistaingenieria.unam.mx (www.revistaingenieria.unam.mx)|132.248.54.220|:443... connected.\n",
            "HTTP request sent, awaiting response... 200 OK\n",
            "Length: 798631 (780K) [application/pdf]\n",
            "Saving to: ‘v19n1-01.pdf.1’\n",
            "\n",
            "v19n1-01.pdf.1      100%[===================>] 779.91K  2.00MB/s    in 0.4s    \n",
            "\n",
            "2023-10-04 18:17:24 (2.00 MB/s) - ‘v19n1-01.pdf.1’ saved [798631/798631]\n",
            "\n",
            "--2023-10-04 18:17:24--  https://www.revistaingenieria.unam.mx/numeros/2018/v19n1-02.pdf\n",
            "Resolving www.revistaingenieria.unam.mx (www.revistaingenieria.unam.mx)... 132.248.54.220\n",
            "Connecting to www.revistaingenieria.unam.mx (www.revistaingenieria.unam.mx)|132.248.54.220|:443... connected.\n",
            "HTTP request sent, awaiting response... 200 OK\n",
            "Length: 1009185 (986K) [application/pdf]\n",
            "Saving to: ‘v19n1-02.pdf’\n",
            "\n",
            "v19n1-02.pdf        100%[===================>] 985.53K  3.01MB/s    in 0.3s    \n",
            "\n",
            "2023-10-04 18:17:24 (3.01 MB/s) - ‘v19n1-02.pdf’ saved [1009185/1009185]\n",
            "\n",
            "--2023-10-04 18:17:24--  https://www.revistaingenieria.unam.mx/numeros/2018/v19n1-03.pdf\n",
            "Resolving www.revistaingenieria.unam.mx (www.revistaingenieria.unam.mx)... 132.248.54.220\n",
            "Connecting to www.revistaingenieria.unam.mx (www.revistaingenieria.unam.mx)|132.248.54.220|:443... connected.\n",
            "HTTP request sent, awaiting response... 200 OK\n",
            "Length: 884635 (864K) [application/pdf]\n",
            "Saving to: ‘v19n1-03.pdf’\n",
            "\n",
            "v19n1-03.pdf        100%[===================>] 863.90K  2.67MB/s    in 0.3s    \n",
            "\n",
            "2023-10-04 18:17:25 (2.67 MB/s) - ‘v19n1-03.pdf’ saved [884635/884635]\n",
            "\n",
            "--2023-10-04 18:17:25--  https://www.revistaingenieria.unam.mx/numeros/2018/v19n1-04.pdf\n",
            "Resolving www.revistaingenieria.unam.mx (www.revistaingenieria.unam.mx)... 132.248.54.220\n",
            "Connecting to www.revistaingenieria.unam.mx (www.revistaingenieria.unam.mx)|132.248.54.220|:443... connected.\n",
            "HTTP request sent, awaiting response... 200 OK\n",
            "Length: 1192300 (1.1M) [application/pdf]\n",
            "Saving to: ‘v19n1-04.pdf’\n",
            "\n",
            "v19n1-04.pdf        100%[===================>]   1.14M  2.54MB/s    in 0.4s    \n",
            "\n",
            "2023-10-04 18:17:26 (2.54 MB/s) - ‘v19n1-04.pdf’ saved [1192300/1192300]\n",
            "\n",
            "--2023-10-04 18:17:26--  https://www.revistaingenieria.unam.mx/numeros/2018/v19n1-05.pdf\n",
            "Resolving www.revistaingenieria.unam.mx (www.revistaingenieria.unam.mx)... 132.248.54.220\n",
            "Connecting to www.revistaingenieria.unam.mx (www.revistaingenieria.unam.mx)|132.248.54.220|:443... connected.\n",
            "HTTP request sent, awaiting response... 200 OK\n",
            "Length: 1167117 (1.1M) [application/pdf]\n",
            "Saving to: ‘v19n1-05.pdf’\n",
            "\n",
            "v19n1-05.pdf        100%[===================>]   1.11M  2.88MB/s    in 0.4s    \n",
            "\n",
            "2023-10-04 18:17:27 (2.88 MB/s) - ‘v19n1-05.pdf’ saved [1167117/1167117]\n",
            "\n",
            "--2023-10-04 18:17:27--  https://www.revistaingenieria.unam.mx/numeros/2018/v19n1-06.pdf\n",
            "Resolving www.revistaingenieria.unam.mx (www.revistaingenieria.unam.mx)... 132.248.54.220\n",
            "Connecting to www.revistaingenieria.unam.mx (www.revistaingenieria.unam.mx)|132.248.54.220|:443... connected.\n",
            "HTTP request sent, awaiting response... 200 OK\n",
            "Length: 2314209 (2.2M) [application/pdf]\n",
            "Saving to: ‘v19n1-06.pdf’\n",
            "\n",
            "v19n1-06.pdf        100%[===================>]   2.21M  5.60MB/s    in 0.4s    \n",
            "\n",
            "2023-10-04 18:17:28 (5.60 MB/s) - ‘v19n1-06.pdf’ saved [2314209/2314209]\n",
            "\n",
            "--2023-10-04 18:17:28--  https://www.revistaingenieria.unam.mx/numeros/2018/v19n1-07.pdf\n",
            "Resolving www.revistaingenieria.unam.mx (www.revistaingenieria.unam.mx)... 132.248.54.220\n",
            "Connecting to www.revistaingenieria.unam.mx (www.revistaingenieria.unam.mx)|132.248.54.220|:443... connected.\n",
            "HTTP request sent, awaiting response... 200 OK\n",
            "Length: 1778204 (1.7M) [application/pdf]\n",
            "Saving to: ‘v19n1-07.pdf’\n",
            "\n",
            "v19n1-07.pdf        100%[===================>]   1.70M  4.42MB/s    in 0.4s    \n",
            "\n",
            "2023-10-04 18:17:28 (4.42 MB/s) - ‘v19n1-07.pdf’ saved [1778204/1778204]\n",
            "\n",
            "--2023-10-04 18:17:28--  https://www.revistaingenieria.unam.mx/numeros/2018/v19n1-08.pdf\n",
            "Resolving www.revistaingenieria.unam.mx (www.revistaingenieria.unam.mx)... 132.248.54.220\n",
            "Connecting to www.revistaingenieria.unam.mx (www.revistaingenieria.unam.mx)|132.248.54.220|:443... connected.\n",
            "HTTP request sent, awaiting response... 200 OK\n",
            "Length: 1057893 (1.0M) [application/pdf]\n",
            "Saving to: ‘v19n1-08.pdf’\n",
            "\n",
            "v19n1-08.pdf        100%[===================>]   1.01M  3.16MB/s    in 0.3s    \n",
            "\n",
            "2023-10-04 18:17:29 (3.16 MB/s) - ‘v19n1-08.pdf’ saved [1057893/1057893]\n",
            "\n",
            "--2023-10-04 18:17:29--  https://www.revistaingenieria.unam.mx/numeros/2018/v19n1-09.pdf\n",
            "Resolving www.revistaingenieria.unam.mx (www.revistaingenieria.unam.mx)... 132.248.54.220\n",
            "Connecting to www.revistaingenieria.unam.mx (www.revistaingenieria.unam.mx)|132.248.54.220|:443... connected.\n",
            "HTTP request sent, awaiting response... 200 OK\n",
            "Length: 1100498 (1.0M) [application/pdf]\n",
            "Saving to: ‘v19n1-09.pdf’\n",
            "\n",
            "v19n1-09.pdf        100%[===================>]   1.05M  3.28MB/s    in 0.3s    \n",
            "\n",
            "2023-10-04 18:17:30 (3.28 MB/s) - ‘v19n1-09.pdf’ saved [1100498/1100498]\n",
            "\n",
            "--2023-10-04 18:17:30--  https://www.revistaingenieria.unam.mx/numeros/2018/v19n1-10.pdf\n",
            "Resolving www.revistaingenieria.unam.mx (www.revistaingenieria.unam.mx)... 132.248.54.220\n",
            "Connecting to www.revistaingenieria.unam.mx (www.revistaingenieria.unam.mx)|132.248.54.220|:443... connected.\n",
            "HTTP request sent, awaiting response... 200 OK\n",
            "Length: 1609701 (1.5M) [application/pdf]\n",
            "Saving to: ‘v19n1-10.pdf’\n",
            "\n",
            "v19n1-10.pdf        100%[===================>]   1.53M  3.44MB/s    in 0.4s    \n",
            "\n",
            "2023-10-04 18:17:31 (3.44 MB/s) - ‘v19n1-10.pdf’ saved [1609701/1609701]\n",
            "\n",
            "--2023-10-04 18:17:31--  https://www.revistaingenieria.unam.mx/numeros/2018/v19n2-01.pdf\n",
            "Resolving www.revistaingenieria.unam.mx (www.revistaingenieria.unam.mx)... 132.248.54.220\n",
            "Connecting to www.revistaingenieria.unam.mx (www.revistaingenieria.unam.mx)|132.248.54.220|:443... connected.\n",
            "HTTP request sent, awaiting response... 200 OK\n",
            "Length: 1022366 (998K) [application/pdf]\n",
            "Saving to: ‘v19n2-01.pdf’\n",
            "\n",
            "v19n2-01.pdf        100%[===================>] 998.40K  2.55MB/s    in 0.4s    \n",
            "\n",
            "2023-10-04 18:17:31 (2.55 MB/s) - ‘v19n2-01.pdf’ saved [1022366/1022366]\n",
            "\n",
            "--2023-10-04 18:17:31--  https://www.revistaingenieria.unam.mx/numeros/2018/v19n2-02.pdf\n",
            "Resolving www.revistaingenieria.unam.mx (www.revistaingenieria.unam.mx)... 132.248.54.220\n",
            "Connecting to www.revistaingenieria.unam.mx (www.revistaingenieria.unam.mx)|132.248.54.220|:443... connected.\n",
            "HTTP request sent, awaiting response... 200 OK\n",
            "Length: 1080664 (1.0M) [application/pdf]\n",
            "Saving to: ‘v19n2-02.pdf’\n",
            "\n",
            "v19n2-02.pdf        100%[===================>]   1.03M  2.66MB/s    in 0.4s    \n",
            "\n",
            "2023-10-04 18:17:32 (2.66 MB/s) - ‘v19n2-02.pdf’ saved [1080664/1080664]\n",
            "\n",
            "--2023-10-04 18:17:32--  https://www.revistaingenieria.unam.mx/numeros/2018/v19n2-03.pdf\n",
            "Resolving www.revistaingenieria.unam.mx (www.revistaingenieria.unam.mx)... 132.248.54.220\n",
            "Connecting to www.revistaingenieria.unam.mx (www.revistaingenieria.unam.mx)|132.248.54.220|:443... connected.\n",
            "HTTP request sent, awaiting response... 200 OK\n",
            "Length: 1464723 (1.4M) [application/pdf]\n",
            "Saving to: ‘v19n2-03.pdf’\n",
            "\n",
            "v19n2-03.pdf        100%[===================>]   1.40M  3.12MB/s    in 0.4s    \n",
            "\n",
            "2023-10-04 18:17:33 (3.12 MB/s) - ‘v19n2-03.pdf’ saved [1464723/1464723]\n",
            "\n"
          ]
        }
      ]
    },
    {
      "cell_type": "markdown",
      "source": [
        "## 2.4 Procesamiento de datos\n",
        "Los documentos están en un formato que no nos permite sacar toda la información. Hay que convertirlos a formato TXT. Para ello, vamos a probar la librería PDFTOTEXT.\n",
        "\n",
        "Adicionalmente, veremos cómo hacer este proceso de forma iterativa."
      ],
      "metadata": {
        "id": "KU4SVKQmqTuH"
      }
    },
    {
      "cell_type": "code",
      "source": [
        "!pdftotext v19n1-01.pdf"
      ],
      "metadata": {
        "id": "K69y8LNvq28A"
      },
      "execution_count": null,
      "outputs": []
    },
    {
      "cell_type": "code",
      "source": [
        "ls"
      ],
      "metadata": {
        "id": "rpyUx6-BrIMd",
        "colab": {
          "base_uri": "https://localhost:8080/"
        },
        "outputId": "b081ae1b-907b-4fd9-8ba9-618416c18d3a"
      },
      "execution_count": null,
      "outputs": [
        {
          "output_type": "stream",
          "name": "stdout",
          "text": [
            "v19n1-01.pdf    v19n1-03.pdf  v19n1-07.pdf  v19n2-01.pdf\n",
            "v19n1-01.pdf.1  v19n1-04.pdf  v19n1-08.pdf  v19n2-02.pdf\n",
            "v19n1-01.txt    v19n1-05.pdf  v19n1-09.pdf  v19n2-03.pdf\n",
            "v19n1-02.pdf    v19n1-06.pdf  v19n1-10.pdf  v23n1-01.pdf\n"
          ]
        }
      ]
    },
    {
      "cell_type": "code",
      "source": [
        "ls -lh"
      ],
      "metadata": {
        "id": "u5J2f5GirbpF",
        "colab": {
          "base_uri": "https://localhost:8080/"
        },
        "outputId": "88c364f9-0423-457a-a51c-dc2355ac7e31"
      },
      "execution_count": null,
      "outputs": [
        {
          "output_type": "stream",
          "name": "stdout",
          "text": [
            "total 19M\n",
            "-rw-r--r-- 1 root root 780K Oct 21  2019 v19n1-01.pdf\n",
            "-rw-r--r-- 1 root root 780K Oct 21  2019 v19n1-01.pdf.1\n",
            "-rw-r--r-- 1 root root  41K Oct  4 18:17 v19n1-01.txt\n",
            "-rw-r--r-- 1 root root 986K Oct 21  2019 v19n1-02.pdf\n",
            "-rw-r--r-- 1 root root 864K Oct 21  2019 v19n1-03.pdf\n",
            "-rw-r--r-- 1 root root 1.2M Oct 21  2019 v19n1-04.pdf\n",
            "-rw-r--r-- 1 root root 1.2M Oct 21  2019 v19n1-05.pdf\n",
            "-rw-r--r-- 1 root root 2.3M Oct 21  2019 v19n1-06.pdf\n",
            "-rw-r--r-- 1 root root 1.7M Oct 21  2019 v19n1-07.pdf\n",
            "-rw-r--r-- 1 root root 1.1M Oct 21  2019 v19n1-08.pdf\n",
            "-rw-r--r-- 1 root root 1.1M Oct 21  2019 v19n1-09.pdf\n",
            "-rw-r--r-- 1 root root 1.6M Oct 21  2019 v19n1-10.pdf\n",
            "-rw-r--r-- 1 root root 999K Oct 21  2019 v19n2-01.pdf\n",
            "-rw-r--r-- 1 root root 1.1M Oct 21  2019 v19n2-02.pdf\n",
            "-rw-r--r-- 1 root root 1.4M Oct 21  2019 v19n2-03.pdf\n",
            "-rw-r--r-- 1 root root 2.0M Dec 22  2021 v23n1-01.pdf\n"
          ]
        }
      ]
    },
    {
      "cell_type": "markdown",
      "source": [
        "## 2.5 Variables (y deixis)\n",
        "\n",
        "Vamos a introducir comandos que implican el trabajo itarativo (**FOR**). Para ello, es muy importante controlar las variables que usaremos, de forma que los procesos no tengan errores y, sobre todo, se realice un trabajo secuencial sin tener que estar repitiéndolo todo manualmente.\n",
        "\n",
        "El comando que usaremos será algo así como lo que viene a continuación:\n",
        "\n",
        "**for VARIABLE in CATEGORÍA; do ACCIÓN; TERMINA**\n",
        "\n"
      ],
      "metadata": {
        "id": "DgunagFGrgxD"
      }
    },
    {
      "cell_type": "code",
      "source": [
        "!for i in *.pdf; do pdftotext $i; done"
      ],
      "metadata": {
        "id": "Wm84shYIrdcc"
      },
      "execution_count": null,
      "outputs": []
    },
    {
      "cell_type": "code",
      "source": [
        "ls -lh"
      ],
      "metadata": {
        "id": "pYTwaxO4shBA",
        "colab": {
          "base_uri": "https://localhost:8080/"
        },
        "outputId": "f2c9a4b9-e8c4-420c-8bbc-051422963be7"
      },
      "execution_count": null,
      "outputs": [
        {
          "output_type": "stream",
          "name": "stdout",
          "text": [
            "total 20M\n",
            "-rw-r--r-- 1 root root 780K Oct 21  2019 v19n1-01.pdf\n",
            "-rw-r--r-- 1 root root 780K Oct 21  2019 v19n1-01.pdf.1\n",
            "-rw-r--r-- 1 root root  41K Oct  4 18:17 v19n1-01.txt\n",
            "-rw-r--r-- 1 root root 986K Oct 21  2019 v19n1-02.pdf\n",
            "-rw-r--r-- 1 root root  41K Oct  4 18:17 v19n1-02.txt\n",
            "-rw-r--r-- 1 root root 864K Oct 21  2019 v19n1-03.pdf\n",
            "-rw-r--r-- 1 root root  44K Oct  4 18:17 v19n1-03.txt\n",
            "-rw-r--r-- 1 root root 1.2M Oct 21  2019 v19n1-04.pdf\n",
            "-rw-r--r-- 1 root root  39K Oct  4 18:17 v19n1-04.txt\n",
            "-rw-r--r-- 1 root root 1.2M Oct 21  2019 v19n1-05.pdf\n",
            "-rw-r--r-- 1 root root  36K Oct  4 18:17 v19n1-05.txt\n",
            "-rw-r--r-- 1 root root 2.3M Oct 21  2019 v19n1-06.pdf\n",
            "-rw-r--r-- 1 root root  48K Oct  4 18:17 v19n1-06.txt\n",
            "-rw-r--r-- 1 root root 1.7M Oct 21  2019 v19n1-07.pdf\n",
            "-rw-r--r-- 1 root root  39K Oct  4 18:17 v19n1-07.txt\n",
            "-rw-r--r-- 1 root root 1.1M Oct 21  2019 v19n1-08.pdf\n",
            "-rw-r--r-- 1 root root  41K Oct  4 18:17 v19n1-08.txt\n",
            "-rw-r--r-- 1 root root 1.1M Oct 21  2019 v19n1-09.pdf\n",
            "-rw-r--r-- 1 root root  45K Oct  4 18:17 v19n1-09.txt\n",
            "-rw-r--r-- 1 root root 1.6M Oct 21  2019 v19n1-10.pdf\n",
            "-rw-r--r-- 1 root root  43K Oct  4 18:17 v19n1-10.txt\n",
            "-rw-r--r-- 1 root root 999K Oct 21  2019 v19n2-01.pdf\n",
            "-rw-r--r-- 1 root root  33K Oct  4 18:17 v19n2-01.txt\n",
            "-rw-r--r-- 1 root root 1.1M Oct 21  2019 v19n2-02.pdf\n",
            "-rw-r--r-- 1 root root  44K Oct  4 18:17 v19n2-02.txt\n",
            "-rw-r--r-- 1 root root 1.4M Oct 21  2019 v19n2-03.pdf\n",
            "-rw-r--r-- 1 root root  45K Oct  4 18:17 v19n2-03.txt\n",
            "-rw-r--r-- 1 root root 2.0M Dec 22  2021 v23n1-01.pdf\n",
            "-rw-r--r-- 1 root root  50K Oct  4 18:17 v23n1-01.txt\n"
          ]
        }
      ]
    },
    {
      "cell_type": "markdown",
      "source": [
        "### 2.5.1 Cómo funciona el FOR y las variables: anáforas y catáforas\n",
        "\n",
        "El proceso que estamos realizando puede explicarse en términos de anáforas y catafóras. Las variables serán los elementos deícticos y las categrías serán los referentes. Como en el caso del lenguaje natural, es necesario tener muy contralados estos elementos para eliminar la ambigüedad.\n",
        "\n",
        "Veamos un ejemplo con lenguaje natural para entender mejor el proceso:\n",
        "\n",
        "1. No **lo_i** trajeron, dijo asombrado el profesor cuando se dio cuenta de que nadie trajo el **reporte_i**. Los alumnos, avergonzados, prometieron traer**los_i** para la próxima sesión.\n",
        "\n",
        "2. FOR *i* in ***.PDF**; do **PDFTOTEXT** **$i**; DONE\n",
        "\n",
        "\n",
        "Noten la importancia de la sintaxis, tanto en el lenguaje natural como en el artificial, para que la acción sea clara.\n",
        "\n",
        "3. No **lo_i** trajeron dijo asombrado el profesor cuando se dio cuenta de que nadie trajo el **reporte_i** los alumnos avergonzados prometieron traer**los_i** para la próxima sesión\n",
        "\n",
        "2. FOR *i* in ***.PDF** do **PDFTOTEXT** **$i** DONE\n",
        "\n",
        "\n"
      ],
      "metadata": {
        "id": "etOdkWrZsrRk"
      }
    },
    {
      "cell_type": "code",
      "source": [
        "#!for i in *.txt; do mv $i $i.log; done"
      ],
      "metadata": {
        "id": "StzIBWeusogd"
      },
      "execution_count": null,
      "outputs": []
    },
    {
      "cell_type": "code",
      "source": [
        "#ls -lh"
      ],
      "metadata": {
        "id": "0F7K-jMPvjUh"
      },
      "execution_count": null,
      "outputs": []
    },
    {
      "cell_type": "code",
      "source": [
        "#rm *.log"
      ],
      "metadata": {
        "id": "Az0wZ-1XvkiW"
      },
      "execution_count": null,
      "outputs": []
    },
    {
      "cell_type": "markdown",
      "source": [
        "# 3. Procesamiento de corpus\n",
        "\n",
        "Con los datos descargados podemos hacer muchas cosas. Una de ellas, es unir los archivos en un solo documento o crear un generados de concordancias muy sencillo.\n",
        "\n",
        "A continuación, veremos el uso de **cat** y de **grep**. Ambos son librerías muy potentes para procesar datos alfanuméricos."
      ],
      "metadata": {
        "id": "YufLFHSDvpkJ"
      }
    },
    {
      "cell_type": "code",
      "source": [
        "!cat *.txt > corpus.txt #leer los archivos solicitados y guarda la salida > en FILE"
      ],
      "metadata": {
        "id": "7l7QghZ1vnFt"
      },
      "execution_count": null,
      "outputs": []
    },
    {
      "cell_type": "markdown",
      "source": [
        "## 3.1 GREP\n",
        "Esta librería es muy potente, así como su versión para expresiones regulares **egrep**, puesto que permite hacer búsquedas complejas para recuperar información de forma eficiente; además, puede trabajar sobre diferentes tipos de archivos.\n",
        "\n",
        "En esta [liga](https://www.linuxsc.net/como-buscar-una-cadena-de-texto-usando-el-comando-grep-y-egrep-con-ejemplos-practicos/) pueden aprender un poco acerca de su funcionamiento.\n",
        "\n",
        "Adicionalmente, los resultados que obtenemos los podemos guardar en un archivo de salida con el operador **>**.\n"
      ],
      "metadata": {
        "id": "ZBpGUXsPxf7J"
      }
    },
    {
      "cell_type": "code",
      "source": [
        "!less corpus.txt | grep 'agua' #leer archivo | entra tubería para hacer un segundo proceso, en este caso, recuperar las líneas que concuerdan con la búsqueda"
      ],
      "metadata": {
        "id": "D8Ps838qwfK-",
        "colab": {
          "base_uri": "https://localhost:8080/"
        },
        "outputId": "1c5b5f98-b25d-4311-933c-b597e960cafc"
      },
      "execution_count": null,
      "outputs": [
        {
          "output_type": "stream",
          "name": "stdout",
          "text": [
            "total de un bordo sometido a un flujo de agua sobre su\n",
            "(Powledge et al., 1989). El efecto erosivo del agua se\n",
            "interfaz suelo-agua (Nadal y Hughes, 2009). Para determinar la tasa de erosión del material del bordo, con frecuencia se recurre a la ecuación del exceso del esfuerzo\n",
            "τ 0 = esfuerzo cortante en la interfaz suelo-agua [Pa]\n",
            "ρ = densidad del agua [kg/m3]\n",
            "h0 = tirante de agua normal a la superficie del talud en\n",
            "agua en el embalse dentro del intervalo: 0 ≤ h ≤ 2 . Los\n",
            "en el esfuerzo cortante crítico τ c y el ángulo de inclinación θ del talud aguas abajo sobre dicha falla son prácticamente despreciables. Destaca que la influencia del\n",
            "de inclinación del talud aguas abajo\n",
            "agua subterránea combinando modelación numérica e indicadores de la sustentabilidad. En el año 2012 fue Visiting Scholar en la Universidad del Sur de California. Desde el año 2013 es miembro de la comunidad de exbecarios Fullbright.\n",
            "Volponi, A. J., DePold, H., Ganguli, R. & Daguang, C. (2003). The\n"
          ]
        }
      ]
    },
    {
      "cell_type": "code",
      "source": [
        "!less corpus.txt | grep -in 'bioingeniería'"
      ],
      "metadata": {
        "id": "0a81HDGZw8qU",
        "colab": {
          "base_uri": "https://localhost:8080/"
        },
        "outputId": "8936beb2-e682-49db-e5cf-0755aa47a9ad"
      },
      "execution_count": null,
      "outputs": [
        {
          "output_type": "stream",
          "name": "stdout",
          "text": [
            "16:Departamento de Bioingeniería\n",
            "20:Departamento de Bioingeniería\n"
          ]
        }
      ]
    },
    {
      "cell_type": "code",
      "source": [
        "!less corpus.txt | grep -n 'ado$'"
      ],
      "metadata": {
        "id": "TedkWteFxPVP",
        "colab": {
          "base_uri": "https://localhost:8080/"
        },
        "outputId": "eaa5938d-a269-4daa-ffd6-7dc2d76f3a6a"
      },
      "execution_count": null,
      "outputs": [
        {
          "output_type": "stream",
          "name": "stdout",
          "text": [
            "3:ISSN 2594-0732 FI-UNAM artículo arbitrado\n",
            "929:ISSN 2594-0732 FI-UNAM artículo arbitrado\n",
            "1090:Factor efectivo de formación de coque del alimentado\n",
            "1484:catalizador regenerado\n",
            "1486:catalizador usado\n",
            "1507:de catalizador regenerado\n",
            "1510:catalizador usado\n",
            "1515:= longitud del conducto de cataliza\t\t dor regenerado\n",
            "1517:\t\t dor usado\n",
            "1520:\t\t catalizador regenerado\n",
            "1523:catalizador usado\n",
            "1854:4. Estimar la media a priori y la covarianza del estado\n",
            "2147:se simuló el funcionamiento de la FCCU según el modelo de referencia durante 600 s, partiendo del estado\n",
            "2151:con el mismo vector de entradas constantes u y considerando las salidas registradas en la primera parte del experimento, y se registraron los valores del estado\n",
            "2738:procesos por lotes. Desde el año 2001 sus intereses de investigación han estado\n",
            "2754:ISSN 2594-0732 FI-UNAM artículo arbitrado\n",
            "3993:ISSN 2594-0732 FI-UNAM artículo arbitrado\n",
            "5385:ISSN 2594-0732 FI-UNAM artículo arbitrado\n",
            "6344:ISSN 2594-0732 FI-UNAM artículo arbitrado\n",
            "7187:ISSN 2594-0732 FI-UNAM artículo arbitrado\n",
            "7567:Significado\n",
            "7730:Señal de carga de banderas para el Registro de Estado\n",
            "8115:por el Instituto Politécnico Nacional (IPN) México. Obtuvo el grado D.E.A. en ingeniería eléctrica, por la Universidad de Oviedo, España, en 2009. En 2015 recibió el grado\n",
            "8130:ISSN 2594-0732 FI-UNAM artículo arbitrado\n",
            "9546:ISSN 2594-0732 FI-UNAM artículo arbitrado\n",
            "9922:donde el inverso de la ley de correspondencia está dado\n",
            "9981:base en esta última formulación, la ecuación de estado\n",
            "10716:ISSN 2594-0732 FI-UNAM artículo arbitrado\n",
            "11519:ISSN 2594-0732 FI-UNAM artículo arbitrado\n",
            "12660:ISSN 2594-0732 FI-UNAM artículo arbitrado\n",
            "12730:tránsito como una colisión en un entorno vial, resultado\n",
            "12915:tools of the trade: a survey of various agent based modeling platforms (Journal of Artificial Societies and Social Simulation, 2009), entre otros. Como resultado\n",
            "12977:como la interacción entre estos, se realiza empleando la metodología denominada Proceso Unificado\n",
            "13741:ISSN 2594-0732 FI-UNAM artículo arbitrado\n",
            "14728:ISSN 2594-0732 FI-UNAM artículo arbitrado\n"
          ]
        }
      ]
    },
    {
      "cell_type": "code",
      "source": [
        "!less corpus.txt | grep -in 'ado' > ado.txt"
      ],
      "metadata": {
        "id": "JMoFLNeMxW1a"
      },
      "execution_count": null,
      "outputs": []
    },
    {
      "cell_type": "markdown",
      "source": [
        "# 4. Anotación POS\n",
        "\n",
        "En esta sección veremos cómo se puede anotar el corpus que acabamos de crear con etiquetas de categoría gramatical de forma automática e iterativa. Para ello, usaremos el software [TreeTagger](https://www.cis.uni-muenchen.de/~schmid/tools/TreeTagger/).\n",
        "\n"
      ],
      "metadata": {
        "id": "8j6lp6ZAzSMF"
      }
    },
    {
      "cell_type": "markdown",
      "source": [
        "## 4.1 Instalación del etiquetador\n",
        "\n",
        "Descargar los archivos que se mencionan en la página y, posteriormente, subirlos a la máquina virtual en la que estamos trabajando. Todos los archivos van a quedar en la ruta /content/experimentos/"
      ],
      "metadata": {
        "id": "5fEihXEQz21p"
      }
    },
    {
      "cell_type": "code",
      "source": [
        "!sh install-tagger.sh"
      ],
      "metadata": {
        "id": "c3a-unLPy26q",
        "colab": {
          "base_uri": "https://localhost:8080/"
        },
        "outputId": "40bd2a67-37e3-4e02-df4d-3d1c8252382e"
      },
      "execution_count": null,
      "outputs": [
        {
          "output_type": "stream",
          "name": "stdout",
          "text": [
            "sh: 0: cannot open install-tagger.sh: No such file\n"
          ]
        }
      ]
    },
    {
      "cell_type": "markdown",
      "source": [
        "Prueba de que el software se instaló correctamente y arroja resultados de la anotación POS."
      ],
      "metadata": {
        "id": "E_J9pJjkBQi5"
      }
    },
    {
      "cell_type": "code",
      "source": [
        "!echo 'esta es la prueba de instalación' | cmd/tree-tagger-spanish-ancora"
      ],
      "metadata": {
        "id": "96wxzxva0hOU",
        "colab": {
          "base_uri": "https://localhost:8080/"
        },
        "outputId": "0a565654-47e6-4739-b437-71bb36a962db"
      },
      "execution_count": null,
      "outputs": [
        {
          "output_type": "stream",
          "name": "stdout",
          "text": [
            "/bin/bash: line 1: cmd/tree-tagger-spanish-ancora: No such file or directory\n"
          ]
        }
      ]
    },
    {
      "cell_type": "code",
      "source": [
        "!for i in *.txt; do cat $i | cmd/tree-tagger-spanish-ancora > $i.tagged; done"
      ],
      "metadata": {
        "id": "lYS_wtTw0nLk",
        "colab": {
          "base_uri": "https://localhost:8080/"
        },
        "outputId": "728fbcce-30aa-4085-a5c5-f83bd73d5af2"
      },
      "execution_count": null,
      "outputs": [
        {
          "output_type": "stream",
          "name": "stdout",
          "text": [
            "/bin/bash: line 1: cmd/tree-tagger-spanish-ancora: No such file or directory\n",
            "/bin/bash: line 1: cmd/tree-tagger-spanish-ancora: No such file or directory\n",
            "/bin/bash: line 1: cmd/tree-tagger-spanish-ancora: No such file or directory\n",
            "/bin/bash: line 1: cmd/tree-tagger-spanish-ancora: No such file or directory\n",
            "/bin/bash: line 1: cmd/tree-tagger-spanish-ancora: No such file or directory\n",
            "/bin/bash: line 1: cmd/tree-tagger-spanish-ancora: No such file or directory\n",
            "/bin/bash: line 1: cmd/tree-tagger-spanish-ancora: No such file or directory\n",
            "/bin/bash: line 1: cmd/tree-tagger-spanish-ancora: No such file or directory\n",
            "/bin/bash: line 1: cmd/tree-tagger-spanish-ancora: No such file or directory\n",
            "/bin/bash: line 1: cmd/tree-tagger-spanish-ancora: No such file or directory\n",
            "/bin/bash: line 1: cmd/tree-tagger-spanish-ancora: No such file or directory\n",
            "/bin/bash: line 1: cmd/tree-tagger-spanish-ancora: No such file or directory\n",
            "/bin/bash: line 1: cmd/tree-tagger-spanish-ancora: No such file or directory\n",
            "/bin/bash: line 1: cmd/tree-tagger-spanish-ancora: No such file or directory\n",
            "/bin/bash: line 1: cmd/tree-tagger-spanish-ancora: No such file or directory\n",
            "/bin/bash: line 1: cmd/tree-tagger-spanish-ancora: No such file or directory\n"
          ]
        }
      ]
    },
    {
      "cell_type": "code",
      "source": [
        "ls *.tagged"
      ],
      "metadata": {
        "id": "-UlJm24FDiD5",
        "colab": {
          "base_uri": "https://localhost:8080/"
        },
        "outputId": "3b3a4c48-a571-440a-9fa1-679ca61e4907"
      },
      "execution_count": null,
      "outputs": [
        {
          "output_type": "stream",
          "name": "stdout",
          "text": [
            "ado.txt.tagged       v19n1-05.txt.tagged  v19n2-01.txt.tagged\n",
            "corpus.txt.tagged    v19n1-06.txt.tagged  v19n2-02.txt.tagged\n",
            "v19n1-01.txt.tagged  v19n1-07.txt.tagged  v19n2-03.txt.tagged\n",
            "v19n1-02.txt.tagged  v19n1-08.txt.tagged  v23n1-01.txt.tagged\n",
            "v19n1-03.txt.tagged  v19n1-09.txt.tagged\n",
            "v19n1-04.txt.tagged  v19n1-10.txt.tagged\n"
          ]
        }
      ]
    },
    {
      "cell_type": "code",
      "source": [
        "!cat corpus.txt | cmd/tree-tagger-spanish-ancora > corpus.total.tagged"
      ],
      "metadata": {
        "id": "_Xj8mp_70kC5",
        "colab": {
          "base_uri": "https://localhost:8080/"
        },
        "outputId": "30a1dd62-2550-4020-bb94-0b06ba28ba80"
      },
      "execution_count": null,
      "outputs": [
        {
          "output_type": "stream",
          "name": "stdout",
          "text": [
            "/bin/bash: line 1: cmd/tree-tagger-spanish-ancora: No such file or directory\n"
          ]
        }
      ]
    },
    {
      "cell_type": "code",
      "source": [
        "ls *.tagged"
      ],
      "metadata": {
        "id": "404NzWLsD9-o",
        "colab": {
          "base_uri": "https://localhost:8080/"
        },
        "outputId": "879a4ca7-7434-413a-ec9a-bb6c4a6817fd"
      },
      "execution_count": null,
      "outputs": [
        {
          "output_type": "stream",
          "name": "stdout",
          "text": [
            "ado.txt.tagged       v19n1-04.txt.tagged  v19n1-10.txt.tagged\n",
            "corpus.total.tagged  v19n1-05.txt.tagged  v19n2-01.txt.tagged\n",
            "corpus.txt.tagged    v19n1-06.txt.tagged  v19n2-02.txt.tagged\n",
            "v19n1-01.txt.tagged  v19n1-07.txt.tagged  v19n2-03.txt.tagged\n",
            "v19n1-02.txt.tagged  v19n1-08.txt.tagged  v23n1-01.txt.tagged\n",
            "v19n1-03.txt.tagged  v19n1-09.txt.tagged\n"
          ]
        }
      ]
    },
    {
      "cell_type": "markdown",
      "source": [
        "# 5. Refuerzo\n",
        "\n",
        "1. Crear un nuevo Notebook llamado **preseea** para realizar los siguientes procesos.\n",
        "1. Crear una carpeta de trabajo llamada **refuerzo** y realizar los siguientes procesos. El path debe quedar de la siguiente forma:\n",
        "   /content/refuerzo/\n",
        "   Recuerden la importancia de los paths, puesto que ahí ejecutaremos todo el proceso: instalación, experimentos, anotación, etc.\n",
        "\n",
        "2. Descargar los archivos de PRESEEA que están en estas URLs:\n",
        "\n",
        "   https://lef.colmex.mx/pdf/Entrevista%201%20(ME-042-31H-99).pdf\n",
        "\n",
        "   https://lef.colmex.mx/pdf/Entrevista%2013%20(ME-006-32H-97).pdf\n",
        "\n",
        "   https://lef.colmex.mx/pdf/Entrevista%2025%20(ME-009-33H-97).pdf\n",
        "\n",
        "   https://lef.colmex.mx/pdf/Entrevista%207%20ME-107-31M-00.pdf\n",
        "\n",
        "   https://lef.colmex.mx/pdf/Entrevista%2019%20(ME-055-32M-99).pdf\n",
        "\n",
        "  https://lef.colmex.mx/pdf/Entrevista%2031%20(ME-220-33M-02).pdf\n",
        "\n",
        "3. Convertilos a formato TXT  de forma iterativa.\n",
        "\n",
        "4. Extraer algunas concordancias con el comando **grep** y guardar los resultados con el nombre de la consulta. Ejemplo:\n",
        "\n",
        "    !less *.txt | grep 'no' > no.txt\n",
        "\n",
        "5. Anotar todos los textos de forma independiente con TreeTager.\n"
      ],
      "metadata": {
        "id": "jS99h5gL1qgO"
      }
    }
  ]
}