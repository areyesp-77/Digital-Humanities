{
  "nbformat": 4,
  "nbformat_minor": 0,
  "metadata": {
    "colab": {
      "provenance": []
    },
    "kernelspec": {
      "name": "python3",
      "display_name": "Python 3"
    },
    "language_info": {
      "name": "python"
    }
  },
  "cells": [
    {
      "cell_type": "markdown",
      "source": [
        "# 1. Introducción\n",
        "## Comandos básicos para utilizar el Notebook\n",
        "\n",
        "En esta sección se explica cómo funciona el Notebook para la construcción semi automática de un corpus.\n",
        "\n",
        "Se usarán algunas librerías de **SHELL** que se ejecutan a través de líneas de comandos (*terminal*) para optimizar el proceso.\n",
        "\n",
        "Asimismo, se conocerán algunos de los [comandos básicos de Shell](https://es.wikibooks.org/wiki/Manual_de_consola_Bash_de_Linux) para el procesamiento de datos."
      ],
      "metadata": {
        "id": "Sheiamg5cf7K"
      }
    },
    {
      "cell_type": "code",
      "source": [
        "pwd #comando para identificar la ruta en la que estamos trabajando"
      ],
      "metadata": {
        "id": "M119FjEH8Suv"
      },
      "execution_count": null,
      "outputs": []
    },
    {
      "cell_type": "code",
      "source": [
        "ls #comando para listar la información que está en la ruta de trabajo"
      ],
      "metadata": {
        "id": "TESPJ75z8U8L"
      },
      "execution_count": null,
      "outputs": []
    },
    {
      "cell_type": "code",
      "source": [
        "mkdir experimentos #mkdir FOLDER crear un carpeta en la ruta de trabajo"
      ],
      "metadata": {
        "id": "keW7OaZPbJ_3"
      },
      "execution_count": null,
      "outputs": []
    },
    {
      "cell_type": "code",
      "source": [
        "ls"
      ],
      "metadata": {
        "id": "CUl8cdvwbRvJ"
      },
      "execution_count": null,
      "outputs": []
    },
    {
      "cell_type": "code",
      "source": [
        "cd experimentos/"
      ],
      "metadata": {
        "id": "KT27HlF-bUFg"
      },
      "execution_count": null,
      "outputs": []
    },
    {
      "cell_type": "code",
      "source": [
        "ls #cd FOLDER ingresa a un carpeta, cd .. sale de la carpeta"
      ],
      "metadata": {
        "id": "YcIoCMuSbqTI"
      },
      "execution_count": null,
      "outputs": []
    },
    {
      "cell_type": "code",
      "source": [
        "!touch documentación.txt #touch FILE crea archivo vacío"
      ],
      "metadata": {
        "id": "uxkURU0wb00L"
      },
      "execution_count": null,
      "outputs": []
    },
    {
      "cell_type": "code",
      "source": [
        "ls"
      ],
      "metadata": {
        "id": "S9rPEgb3d12H"
      },
      "execution_count": null,
      "outputs": []
    },
    {
      "cell_type": "code",
      "source": [
        "rm documentación.txt #rm FILE borra archivo, rm -rf FOLDER borra carpeta y archivos en carpeta"
      ],
      "metadata": {
        "id": "CvvI2IzZeNtD"
      },
      "execution_count": null,
      "outputs": []
    },
    {
      "cell_type": "markdown",
      "source": [
        "# 2. Preparación de Notebook para construcción de corpus\n",
        "## 2.1 Instalación de librerías para recuperación de información de la web y para procesamiento de documentos.\n",
        "\n",
        "En esta sección se instalarán las librerías necesarias para hacer el proceso de construcción de corpus de forma automática (**wget**).\n",
        "Asimismo, se insltalarán las librerías para hacer el procesamiento de los documentos descargados (**poppler, texlive, pdftotext**) de forma que al final del proceso se tenga un conjunto de documentos en formato TXT, los cuales serán nuestro corpus de trabajo."
      ],
      "metadata": {
        "id": "IiT-xFbVe2Vb"
      }
    },
    {
      "cell_type": "code",
      "source": [
        "!sudo apt update #comando para revisar las actualizaciones disponibles de la máquina virtual"
      ],
      "metadata": {
        "id": "kA6C9BFJeiBH"
      },
      "execution_count": null,
      "outputs": []
    },
    {
      "cell_type": "code",
      "source": [
        "!sudo apt upgrade #comando para actualizar las librerías de la máquina virtual"
      ],
      "metadata": {
        "id": "gvflVyaTgOKh"
      },
      "execution_count": null,
      "outputs": []
    },
    {
      "cell_type": "code",
      "source": [
        "!sudo apt install build-essential libpoppler-cpp-dev pkg-config python3-dev"
      ],
      "metadata": {
        "id": "T2s_l0dYgZzJ"
      },
      "execution_count": null,
      "outputs": []
    },
    {
      "cell_type": "code",
      "source": [
        "!sudo apt install texlive-extra-utils"
      ],
      "metadata": {
        "id": "L7KMR76ugpkr"
      },
      "execution_count": null,
      "outputs": []
    },
    {
      "cell_type": "code",
      "source": [
        "!sudo pip install pdftotext #el comando de instalación es diferente aquí porque viene de otro lenguaje"
      ],
      "metadata": {
        "id": "HJrXSuRTguTx"
      },
      "execution_count": null,
      "outputs": []
    },
    {
      "cell_type": "code",
      "source": [
        "!sudo apt install poppler-utils"
      ],
      "metadata": {
        "id": "G2vowddVrSZA"
      },
      "execution_count": null,
      "outputs": []
    },
    {
      "cell_type": "markdown",
      "source": [
        "## 2.2 Prueba de que las librerías se instalaron correctamente\n",
        "\n",
        "Vamos a descargar un documento científico de un repositorio alojado en este sitio de la [UNAM](https://www.revistaingenieria.unam.mx/es/numeros-anteriores.php).\n",
        "\n",
        "En este proceso, además de verificar que las librerías funcionan bien, hay que hacer un trabajo de reconocimiento de patrones para automatizar la descarga de información."
      ],
      "metadata": {
        "id": "RJAd67QrhXG7"
      }
    },
    {
      "cell_type": "code",
      "source": [
        "!wget https://www.revistaingenieria.unam.mx/numeros/2022/v23n1-01.pdf #wget URL para descargar el documento"
      ],
      "metadata": {
        "id": "crfnqXlYhclb"
      },
      "execution_count": null,
      "outputs": []
    },
    {
      "cell_type": "code",
      "source": [
        "ls"
      ],
      "metadata": {
        "id": "Ruv7pF-QhjY4"
      },
      "execution_count": null,
      "outputs": []
    },
    {
      "cell_type": "markdown",
      "source": [
        "## 2.3 El reconicimiento de patrones\n",
        "\n",
        "Los documentos alojados en el sitio tienen una estructura que nos permite hacer un proceso que tienda hacia la automatización. Veamos:\n",
        "\n",
        "https://www.revistaingenieria.unam.mx/numeros/2022/v23n1-01.pdf\n",
        "\n",
        "https://www.revistaingenieria.unam.mx/numeros/2022/v23n1-02.pdf\n",
        "\n",
        "https://www.revistaingenieria.unam.mx/numeros/2022/v23n1-07.pdf\n",
        "\n",
        "Mediante la exploración de URLs se puede apreciar que el patrón es recurrente y que podemos hacer inferencias acerca de cómo están registrados los números de otros años. Hágamos una prueba:\n",
        "\n",
        "1. Modifiquen el año en la URL y vean si se descarga algún documento."
      ],
      "metadata": {
        "id": "8WLG9UDJiqxE"
      }
    },
    {
      "cell_type": "code",
      "source": [
        "!wget https://www.revistaingenieria.unam.mx/numeros/2018/v23n1-01.pdf"
      ],
      "metadata": {
        "id": "aEioidgyhsSt"
      },
      "execution_count": null,
      "outputs": []
    },
    {
      "cell_type": "markdown",
      "source": [
        "No se descargó nada. Eso implica que el patrón no funcionó o que hay que adecuarlo.\n",
        "\n",
        "Si entramos a la página, veremos que cometimos un error: modificamos el año, pero nos faltó modificar el volumen.\n",
        "\n",
        "https://www.revistaingenieria.unam.mx/numeros/2018/v23n1-01.pdf\n",
        "\n",
        "https://www.revistaingenieria.unam.mx/numeros/2018/v19n1-01.pdf\n",
        "\n",
        "1. Hagan la prueba con el patrón modificado e iteren sobre el nuevo patrón para descargar más números del año 2018."
      ],
      "metadata": {
        "id": "vrfJLBiZkGNZ"
      }
    },
    {
      "cell_type": "code",
      "source": [
        "!wget https://www.revistaingenieria.unam.mx/numeros/2018/v19n1-01.pdf"
      ],
      "metadata": {
        "id": "QZlRIMB5kDh9"
      },
      "execution_count": null,
      "outputs": []
    },
    {
      "cell_type": "code",
      "source": [
        "!wget https://www.revistaingenieria.unam.mx/numeros/2018/v19n1-01.pdf\n",
        "!wget https://www.revistaingenieria.unam.mx/numeros/2018/v19n1-02.pdf\n",
        "!wget https://www.revistaingenieria.unam.mx/numeros/2018/v19n1-03.pdf\n",
        "!wget https://www.revistaingenieria.unam.mx/numeros/2018/v19n1-04.pdf\n",
        "!wget https://www.revistaingenieria.unam.mx/numeros/2018/v19n1-05.pdf\n",
        "!wget https://www.revistaingenieria.unam.mx/numeros/2018/v19n1-06.pdf\n",
        "!wget https://www.revistaingenieria.unam.mx/numeros/2018/v19n1-07.pdf\n",
        "!wget https://www.revistaingenieria.unam.mx/numeros/2018/v19n1-08.pdf\n",
        "!wget https://www.revistaingenieria.unam.mx/numeros/2018/v19n1-09.pdf\n",
        "!wget https://www.revistaingenieria.unam.mx/numeros/2018/v19n1-10.pdf\n",
        "!wget https://www.revistaingenieria.unam.mx/numeros/2018/v19n2-01.pdf\n",
        "!wget https://www.revistaingenieria.unam.mx/numeros/2018/v19n2-02.pdf\n",
        "!wget https://www.revistaingenieria.unam.mx/numeros/2018/v19n2-03.pdf"
      ],
      "metadata": {
        "id": "xyy0olvQlL03"
      },
      "execution_count": null,
      "outputs": []
    },
    {
      "cell_type": "markdown",
      "source": [
        "## 2.4 Procesamiento de datos\n",
        "Los documentos están en un formato que no nos permite sacar toda la información. Hay que convertirlos a formato TXT. Para ello, vamos a probar la librería PDFTOTEXT.\n",
        "\n",
        "Adicionalmente, veremos cómo hacer este proceso de forma iterativa."
      ],
      "metadata": {
        "id": "KU4SVKQmqTuH"
      }
    },
    {
      "cell_type": "code",
      "source": [
        "!pdftotext v19n1-01.pdf"
      ],
      "metadata": {
        "id": "K69y8LNvq28A"
      },
      "execution_count": null,
      "outputs": []
    },
    {
      "cell_type": "code",
      "source": [
        "ls"
      ],
      "metadata": {
        "id": "rpyUx6-BrIMd"
      },
      "execution_count": null,
      "outputs": []
    },
    {
      "cell_type": "code",
      "source": [
        "ls -lh"
      ],
      "metadata": {
        "id": "u5J2f5GirbpF"
      },
      "execution_count": null,
      "outputs": []
    },
    {
      "cell_type": "markdown",
      "source": [
        "## 2.5 Variables (y deixis)\n",
        "\n",
        "Vamos a introducir comandos que implican el trabajo itarativo (**FOR**). Para ello, es muy importante controlar las variables que usaremos, de forma que los procesos no tengan errores y, sobre todo, se realice un trabajo secuencial sin tener que estar repitiéndolo todo manualmente.\n",
        "\n",
        "El comando que usaremos será algo así como lo que viene a continuación:\n",
        "\n",
        "**for VARIABLE in CATEGORÍA; do ACCIÓN; TERMINA**\n",
        "\n"
      ],
      "metadata": {
        "id": "DgunagFGrgxD"
      }
    },
    {
      "cell_type": "code",
      "source": [
        "!for i in *.pdf; do pdftotext $i; done"
      ],
      "metadata": {
        "id": "Wm84shYIrdcc"
      },
      "execution_count": null,
      "outputs": []
    },
    {
      "cell_type": "code",
      "source": [
        "ls -lh"
      ],
      "metadata": {
        "id": "pYTwaxO4shBA"
      },
      "execution_count": null,
      "outputs": []
    },
    {
      "cell_type": "markdown",
      "source": [
        "### 2.5.1 Cómo funciona el FOR y las variables: anáforas y catáforas\n",
        "\n",
        "El proceso que estamos realizando puede explicarse en términos de anáforas y catafóras. Las variables serán los elementos deícticos y las categrías serán los referentes. Como en el caso del lenguaje natural, es necesario tener muy contralados estos elementos para eliminar la ambigüedad.\n",
        "\n",
        "Veamos un ejemplo con lenguaje natural para entender mejor el proceso:\n",
        "\n",
        "1. No **lo_i** trajeron, dijo asombrado el profesor cuando se dio cuenta de que nadie trajo el **reporte_i**. Los alumnos, avergonzados, prometieron traer**los_i** para la próxima sesión.\n",
        "\n",
        "2. FOR *i* in ***.PDF**; do **PDFTOTEXT** **$i**; DONE\n",
        "\n",
        "\n",
        "Noten la importancia de la sintaxis, tanto en el lenguaje natural como en el artificial, para que la acción sea clara.\n",
        "\n",
        "3. No **lo_i** trajeron dijo asombrado el profesor cuando se dio cuenta de que nadie trajo el **reporte_i** los alumnos avergonzados prometieron traer**los_i** para la próxima sesión\n",
        "\n",
        "2. FOR *i* in ***.PDF** do **PDFTOTEXT** **$i** DONE\n",
        "\n",
        "\n"
      ],
      "metadata": {
        "id": "etOdkWrZsrRk"
      }
    },
    {
      "cell_type": "code",
      "source": [
        "#!for i in *.txt; do mv $i $i.log; done"
      ],
      "metadata": {
        "id": "StzIBWeusogd"
      },
      "execution_count": null,
      "outputs": []
    },
    {
      "cell_type": "code",
      "source": [
        "#ls -lh"
      ],
      "metadata": {
        "id": "0F7K-jMPvjUh"
      },
      "execution_count": null,
      "outputs": []
    },
    {
      "cell_type": "code",
      "source": [
        "#rm *.log"
      ],
      "metadata": {
        "id": "Az0wZ-1XvkiW"
      },
      "execution_count": null,
      "outputs": []
    },
    {
      "cell_type": "markdown",
      "source": [
        "# 3. Procesamiento de corpus\n",
        "\n",
        "Con los datos descargados podemos hacer muchas cosas. Una de ellas, es unir los archivos en un solo documento o crear un generados de concordancias muy sencillo.\n",
        "\n",
        "A continuación, veremos el uso de **cat** y de **grep**. Ambos son librerías muy potentes para procesar datos alfanuméricos."
      ],
      "metadata": {
        "id": "YufLFHSDvpkJ"
      }
    },
    {
      "cell_type": "code",
      "source": [
        "!cat *.txt > corpus.txt #leer los archivos solicitados y guarda la salida > en FILE"
      ],
      "metadata": {
        "id": "7l7QghZ1vnFt"
      },
      "execution_count": null,
      "outputs": []
    },
    {
      "cell_type": "markdown",
      "source": [
        "## 3.1 GREP\n",
        "Esta librería es muy potente, así como su versión para expresiones regulares **egrep**, puesto que permite hacer búsquedas complejas para recuperar información de forma eficiente; además, puede trabajar sobre diferentes tipos de archivos.\n",
        "\n",
        "En esta [liga](https://www.linuxsc.net/como-buscar-una-cadena-de-texto-usando-el-comando-grep-y-egrep-con-ejemplos-practicos/) pueden aprender un poco acerca de su funcionamiento.\n",
        "\n",
        "Adicionalmente, los resultados que obtenemos los podemos guardar en un archivo de salida con el operador **>**.\n"
      ],
      "metadata": {
        "id": "ZBpGUXsPxf7J"
      }
    },
    {
      "cell_type": "code",
      "source": [
        "!less corpus.txt | grep 'agua' #leer archivo | entra tubería para hacer un segundo proceso, en este caso, recuperar las líneas que concuerdan con la búsqueda"
      ],
      "metadata": {
        "id": "D8Ps838qwfK-"
      },
      "execution_count": null,
      "outputs": []
    },
    {
      "cell_type": "code",
      "source": [
        "!less corpus.txt | grep -in 'bioingeniería'"
      ],
      "metadata": {
        "id": "0a81HDGZw8qU"
      },
      "execution_count": null,
      "outputs": []
    },
    {
      "cell_type": "code",
      "source": [
        "!less corpus.txt | grep -n 'ado$'"
      ],
      "metadata": {
        "id": "TedkWteFxPVP"
      },
      "execution_count": null,
      "outputs": []
    },
    {
      "cell_type": "code",
      "source": [
        "!less corpus.txt | grep -in 'ado' > ado.txt"
      ],
      "metadata": {
        "id": "JMoFLNeMxW1a"
      },
      "execution_count": null,
      "outputs": []
    },
    {
      "cell_type": "markdown",
      "source": [
        "# 4. Anotación POS\n",
        "\n",
        "En esta sección veremos cómo se puede anotar el corpus que acabamos de crear con etiquetas de categoría gramatical de forma automática e iterativa. Para ello, usaremos el software [TreeTagger](https://www.cis.uni-muenchen.de/~schmid/tools/TreeTagger/).\n",
        "\n"
      ],
      "metadata": {
        "id": "8j6lp6ZAzSMF"
      }
    },
    {
      "cell_type": "markdown",
      "source": [
        "## 4.1 Instalación del etiquetador\n",
        "\n",
        "Descargar los archivos que se mencionan en la página y, posteriormente, subirlos a la máquina virtual en la que estamos trabajando. Todos los archivos van a quedar en la ruta /content/experimentos/"
      ],
      "metadata": {
        "id": "5fEihXEQz21p"
      }
    },
    {
      "cell_type": "code",
      "source": [
        "!sh install-tagger.sh"
      ],
      "metadata": {
        "id": "c3a-unLPy26q"
      },
      "execution_count": null,
      "outputs": []
    },
    {
      "cell_type": "markdown",
      "source": [
        "Prueba de que el software se instaló correctamente y arroja resultados de la anotación POS."
      ],
      "metadata": {
        "id": "E_J9pJjkBQi5"
      }
    },
    {
      "cell_type": "code",
      "source": [
        "!echo 'esta es la prueba de instalación' | cmd/tree-tagger-spanish-ancora"
      ],
      "metadata": {
        "id": "96wxzxva0hOU"
      },
      "execution_count": null,
      "outputs": []
    },
    {
      "cell_type": "code",
      "source": [
        "!for i in *.txt; do cat $i | cmd/tree-tagger-spanish-ancora > $i.tagged; done"
      ],
      "metadata": {
        "id": "lYS_wtTw0nLk"
      },
      "execution_count": null,
      "outputs": []
    },
    {
      "cell_type": "code",
      "source": [
        "ls *.tagged"
      ],
      "metadata": {
        "id": "-UlJm24FDiD5"
      },
      "execution_count": null,
      "outputs": []
    },
    {
      "cell_type": "code",
      "source": [
        "!cat corpus.txt | cmd/tree-tagger-spanish-ancora > corpus.total.tagged"
      ],
      "metadata": {
        "id": "_Xj8mp_70kC5"
      },
      "execution_count": null,
      "outputs": []
    },
    {
      "cell_type": "code",
      "source": [
        "ls *.tagged"
      ],
      "metadata": {
        "id": "404NzWLsD9-o"
      },
      "execution_count": null,
      "outputs": []
    },
    {
      "cell_type": "markdown",
      "source": [
        "# 5. Refuerzo\n",
        "\n",
        "1. Crear un nuevo Notebook llamado **preseea** para realizar los siguientes procesos.\n",
        "1. Crear una carpeta de trabajo llamada **refuerzo** y realizar los siguientes procesos. El path debe quedar de la siguiente forma:\n",
        "   /content/refuerzo/\n",
        "   Recuerden la importancia de los paths, puesto que ahí ejecutaremos todo el proceso: instalación, experimentos, anotación, etc.\n",
        "\n",
        "2. Descargar los archivos de PRESEEA que están en estas URLs:\n",
        "\n",
        "   https://lef.colmex.mx/pdf/Entrevista%201%20(ME-042-31H-99).pdf\n",
        "\n",
        "   https://lef.colmex.mx/pdf/Entrevista%2013%20(ME-006-32H-97).pdf\n",
        "\n",
        "   https://lef.colmex.mx/pdf/Entrevista%2025%20(ME-009-33H-97).pdf\n",
        "\n",
        "   https://lef.colmex.mx/pdf/Entrevista%207%20ME-107-31M-00.pdf\n",
        "\n",
        "   https://lef.colmex.mx/pdf/Entrevista%2019%20(ME-055-32M-99).pdf\n",
        "\n",
        "  https://lef.colmex.mx/pdf/Entrevista%2031%20(ME-220-33M-02).pdf\n",
        "\n",
        "3. Convertilos a formato TXT  de forma iterativa.\n",
        "\n",
        "4. Extraer algunas concordancias con el comando **grep** y guardar los resultados con el nombre de la consulta. Ejemplo:\n",
        "\n",
        "    !less *.txt | grep 'no' > no.txt\n",
        "\n",
        "5. Anotar todos los textos de forma independiente con TreeTager.\n"
      ],
      "metadata": {
        "id": "jS99h5gL1qgO"
      }
    }
  ]
}